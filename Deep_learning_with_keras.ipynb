{
  "nbformat": 4,
  "nbformat_minor": 0,
  "metadata": {
    "colab": {
      "provenance": [],
      "authorship_tag": "ABX9TyNxS/AjFU/fAteK3qHuDjji",
      "include_colab_link": true
    },
    "kernelspec": {
      "name": "python3",
      "display_name": "Python 3"
    },
    "language_info": {
      "name": "python"
    }
  },
  "cells": [
    {
      "cell_type": "markdown",
      "metadata": {
        "id": "view-in-github",
        "colab_type": "text"
      },
      "source": [
        "<a href=\"https://colab.research.google.com/github/shivam92211/Deep-Learning-Assignment/blob/main/Deep_learning_with_keras.ipynb\" target=\"_parent\"><img src=\"https://colab.research.google.com/assets/colab-badge.svg\" alt=\"Open In Colab\"/></a>"
      ]
    },
    {
      "cell_type": "markdown",
      "source": [
        "# A. Build a baseline model (5 marks)"
      ],
      "metadata": {
        "id": "oZIWhycZTQ71"
      }
    },
    {
      "cell_type": "markdown",
      "source": [
        "### Download and Clean Dataset"
      ],
      "metadata": {
        "id": "KTaDXjrCTfVO"
      }
    },
    {
      "cell_type": "code",
      "execution_count": 1,
      "metadata": {
        "id": "dZpwYi3oTEg9"
      },
      "outputs": [],
      "source": [
        "import pandas as pd\n",
        "import numpy as np"
      ]
    },
    {
      "cell_type": "code",
      "source": [
        "\n",
        "concrete_data = pd.read_csv('https://s3-api.us-geo.objectstorage.softlayer.net/cf-courses-data/CognitiveClass/DL0101EN/labs/data/concrete_data.csv')\n",
        "concrete_data.head()"
      ],
      "metadata": {
        "colab": {
          "base_uri": "https://localhost:8080/",
          "height": 206
        },
        "id": "EaT5NyOITl-V",
        "outputId": "c919f683-2c6b-4c20-ee78-6d46263c263c"
      },
      "execution_count": 3,
      "outputs": [
        {
          "output_type": "execute_result",
          "data": {
            "text/plain": [
              "   Cement  Blast Furnace Slag  Fly Ash  Water  Superplasticizer  \\\n",
              "0   540.0                 0.0      0.0  162.0               2.5   \n",
              "1   540.0                 0.0      0.0  162.0               2.5   \n",
              "2   332.5               142.5      0.0  228.0               0.0   \n",
              "3   332.5               142.5      0.0  228.0               0.0   \n",
              "4   198.6               132.4      0.0  192.0               0.0   \n",
              "\n",
              "   Coarse Aggregate  Fine Aggregate  Age  Strength  \n",
              "0            1040.0           676.0   28     79.99  \n",
              "1            1055.0           676.0   28     61.89  \n",
              "2             932.0           594.0  270     40.27  \n",
              "3             932.0           594.0  365     41.05  \n",
              "4             978.4           825.5  360     44.30  "
            ],
            "text/html": [
              "\n",
              "  <div id=\"df-c9456858-5500-463a-880b-d7d7a3ae6eb6\" class=\"colab-df-container\">\n",
              "    <div>\n",
              "<style scoped>\n",
              "    .dataframe tbody tr th:only-of-type {\n",
              "        vertical-align: middle;\n",
              "    }\n",
              "\n",
              "    .dataframe tbody tr th {\n",
              "        vertical-align: top;\n",
              "    }\n",
              "\n",
              "    .dataframe thead th {\n",
              "        text-align: right;\n",
              "    }\n",
              "</style>\n",
              "<table border=\"1\" class=\"dataframe\">\n",
              "  <thead>\n",
              "    <tr style=\"text-align: right;\">\n",
              "      <th></th>\n",
              "      <th>Cement</th>\n",
              "      <th>Blast Furnace Slag</th>\n",
              "      <th>Fly Ash</th>\n",
              "      <th>Water</th>\n",
              "      <th>Superplasticizer</th>\n",
              "      <th>Coarse Aggregate</th>\n",
              "      <th>Fine Aggregate</th>\n",
              "      <th>Age</th>\n",
              "      <th>Strength</th>\n",
              "    </tr>\n",
              "  </thead>\n",
              "  <tbody>\n",
              "    <tr>\n",
              "      <th>0</th>\n",
              "      <td>540.0</td>\n",
              "      <td>0.0</td>\n",
              "      <td>0.0</td>\n",
              "      <td>162.0</td>\n",
              "      <td>2.5</td>\n",
              "      <td>1040.0</td>\n",
              "      <td>676.0</td>\n",
              "      <td>28</td>\n",
              "      <td>79.99</td>\n",
              "    </tr>\n",
              "    <tr>\n",
              "      <th>1</th>\n",
              "      <td>540.0</td>\n",
              "      <td>0.0</td>\n",
              "      <td>0.0</td>\n",
              "      <td>162.0</td>\n",
              "      <td>2.5</td>\n",
              "      <td>1055.0</td>\n",
              "      <td>676.0</td>\n",
              "      <td>28</td>\n",
              "      <td>61.89</td>\n",
              "    </tr>\n",
              "    <tr>\n",
              "      <th>2</th>\n",
              "      <td>332.5</td>\n",
              "      <td>142.5</td>\n",
              "      <td>0.0</td>\n",
              "      <td>228.0</td>\n",
              "      <td>0.0</td>\n",
              "      <td>932.0</td>\n",
              "      <td>594.0</td>\n",
              "      <td>270</td>\n",
              "      <td>40.27</td>\n",
              "    </tr>\n",
              "    <tr>\n",
              "      <th>3</th>\n",
              "      <td>332.5</td>\n",
              "      <td>142.5</td>\n",
              "      <td>0.0</td>\n",
              "      <td>228.0</td>\n",
              "      <td>0.0</td>\n",
              "      <td>932.0</td>\n",
              "      <td>594.0</td>\n",
              "      <td>365</td>\n",
              "      <td>41.05</td>\n",
              "    </tr>\n",
              "    <tr>\n",
              "      <th>4</th>\n",
              "      <td>198.6</td>\n",
              "      <td>132.4</td>\n",
              "      <td>0.0</td>\n",
              "      <td>192.0</td>\n",
              "      <td>0.0</td>\n",
              "      <td>978.4</td>\n",
              "      <td>825.5</td>\n",
              "      <td>360</td>\n",
              "      <td>44.30</td>\n",
              "    </tr>\n",
              "  </tbody>\n",
              "</table>\n",
              "</div>\n",
              "    <div class=\"colab-df-buttons\">\n",
              "\n",
              "  <div class=\"colab-df-container\">\n",
              "    <button class=\"colab-df-convert\" onclick=\"convertToInteractive('df-c9456858-5500-463a-880b-d7d7a3ae6eb6')\"\n",
              "            title=\"Convert this dataframe to an interactive table.\"\n",
              "            style=\"display:none;\">\n",
              "\n",
              "  <svg xmlns=\"http://www.w3.org/2000/svg\" height=\"24px\" viewBox=\"0 -960 960 960\">\n",
              "    <path d=\"M120-120v-720h720v720H120Zm60-500h600v-160H180v160Zm220 220h160v-160H400v160Zm0 220h160v-160H400v160ZM180-400h160v-160H180v160Zm440 0h160v-160H620v160ZM180-180h160v-160H180v160Zm440 0h160v-160H620v160Z\"/>\n",
              "  </svg>\n",
              "    </button>\n",
              "\n",
              "  <style>\n",
              "    .colab-df-container {\n",
              "      display:flex;\n",
              "      gap: 12px;\n",
              "    }\n",
              "\n",
              "    .colab-df-convert {\n",
              "      background-color: #E8F0FE;\n",
              "      border: none;\n",
              "      border-radius: 50%;\n",
              "      cursor: pointer;\n",
              "      display: none;\n",
              "      fill: #1967D2;\n",
              "      height: 32px;\n",
              "      padding: 0 0 0 0;\n",
              "      width: 32px;\n",
              "    }\n",
              "\n",
              "    .colab-df-convert:hover {\n",
              "      background-color: #E2EBFA;\n",
              "      box-shadow: 0px 1px 2px rgba(60, 64, 67, 0.3), 0px 1px 3px 1px rgba(60, 64, 67, 0.15);\n",
              "      fill: #174EA6;\n",
              "    }\n",
              "\n",
              "    .colab-df-buttons div {\n",
              "      margin-bottom: 4px;\n",
              "    }\n",
              "\n",
              "    [theme=dark] .colab-df-convert {\n",
              "      background-color: #3B4455;\n",
              "      fill: #D2E3FC;\n",
              "    }\n",
              "\n",
              "    [theme=dark] .colab-df-convert:hover {\n",
              "      background-color: #434B5C;\n",
              "      box-shadow: 0px 1px 3px 1px rgba(0, 0, 0, 0.15);\n",
              "      filter: drop-shadow(0px 1px 2px rgba(0, 0, 0, 0.3));\n",
              "      fill: #FFFFFF;\n",
              "    }\n",
              "  </style>\n",
              "\n",
              "    <script>\n",
              "      const buttonEl =\n",
              "        document.querySelector('#df-c9456858-5500-463a-880b-d7d7a3ae6eb6 button.colab-df-convert');\n",
              "      buttonEl.style.display =\n",
              "        google.colab.kernel.accessAllowed ? 'block' : 'none';\n",
              "\n",
              "      async function convertToInteractive(key) {\n",
              "        const element = document.querySelector('#df-c9456858-5500-463a-880b-d7d7a3ae6eb6');\n",
              "        const dataTable =\n",
              "          await google.colab.kernel.invokeFunction('convertToInteractive',\n",
              "                                                    [key], {});\n",
              "        if (!dataTable) return;\n",
              "\n",
              "        const docLinkHtml = 'Like what you see? Visit the ' +\n",
              "          '<a target=\"_blank\" href=https://colab.research.google.com/notebooks/data_table.ipynb>data table notebook</a>'\n",
              "          + ' to learn more about interactive tables.';\n",
              "        element.innerHTML = '';\n",
              "        dataTable['output_type'] = 'display_data';\n",
              "        await google.colab.output.renderOutput(dataTable, element);\n",
              "        const docLink = document.createElement('div');\n",
              "        docLink.innerHTML = docLinkHtml;\n",
              "        element.appendChild(docLink);\n",
              "      }\n",
              "    </script>\n",
              "  </div>\n",
              "\n",
              "\n",
              "<div id=\"df-fc890d4a-b5ab-4b90-806f-4243316b42a2\">\n",
              "  <button class=\"colab-df-quickchart\" onclick=\"quickchart('df-fc890d4a-b5ab-4b90-806f-4243316b42a2')\"\n",
              "            title=\"Suggest charts.\"\n",
              "            style=\"display:none;\">\n",
              "\n",
              "<svg xmlns=\"http://www.w3.org/2000/svg\" height=\"24px\"viewBox=\"0 0 24 24\"\n",
              "     width=\"24px\">\n",
              "    <g>\n",
              "        <path d=\"M19 3H5c-1.1 0-2 .9-2 2v14c0 1.1.9 2 2 2h14c1.1 0 2-.9 2-2V5c0-1.1-.9-2-2-2zM9 17H7v-7h2v7zm4 0h-2V7h2v10zm4 0h-2v-4h2v4z\"/>\n",
              "    </g>\n",
              "</svg>\n",
              "  </button>\n",
              "\n",
              "<style>\n",
              "  .colab-df-quickchart {\n",
              "      --bg-color: #E8F0FE;\n",
              "      --fill-color: #1967D2;\n",
              "      --hover-bg-color: #E2EBFA;\n",
              "      --hover-fill-color: #174EA6;\n",
              "      --disabled-fill-color: #AAA;\n",
              "      --disabled-bg-color: #DDD;\n",
              "  }\n",
              "\n",
              "  [theme=dark] .colab-df-quickchart {\n",
              "      --bg-color: #3B4455;\n",
              "      --fill-color: #D2E3FC;\n",
              "      --hover-bg-color: #434B5C;\n",
              "      --hover-fill-color: #FFFFFF;\n",
              "      --disabled-bg-color: #3B4455;\n",
              "      --disabled-fill-color: #666;\n",
              "  }\n",
              "\n",
              "  .colab-df-quickchart {\n",
              "    background-color: var(--bg-color);\n",
              "    border: none;\n",
              "    border-radius: 50%;\n",
              "    cursor: pointer;\n",
              "    display: none;\n",
              "    fill: var(--fill-color);\n",
              "    height: 32px;\n",
              "    padding: 0;\n",
              "    width: 32px;\n",
              "  }\n",
              "\n",
              "  .colab-df-quickchart:hover {\n",
              "    background-color: var(--hover-bg-color);\n",
              "    box-shadow: 0 1px 2px rgba(60, 64, 67, 0.3), 0 1px 3px 1px rgba(60, 64, 67, 0.15);\n",
              "    fill: var(--button-hover-fill-color);\n",
              "  }\n",
              "\n",
              "  .colab-df-quickchart-complete:disabled,\n",
              "  .colab-df-quickchart-complete:disabled:hover {\n",
              "    background-color: var(--disabled-bg-color);\n",
              "    fill: var(--disabled-fill-color);\n",
              "    box-shadow: none;\n",
              "  }\n",
              "\n",
              "  .colab-df-spinner {\n",
              "    border: 2px solid var(--fill-color);\n",
              "    border-color: transparent;\n",
              "    border-bottom-color: var(--fill-color);\n",
              "    animation:\n",
              "      spin 1s steps(1) infinite;\n",
              "  }\n",
              "\n",
              "  @keyframes spin {\n",
              "    0% {\n",
              "      border-color: transparent;\n",
              "      border-bottom-color: var(--fill-color);\n",
              "      border-left-color: var(--fill-color);\n",
              "    }\n",
              "    20% {\n",
              "      border-color: transparent;\n",
              "      border-left-color: var(--fill-color);\n",
              "      border-top-color: var(--fill-color);\n",
              "    }\n",
              "    30% {\n",
              "      border-color: transparent;\n",
              "      border-left-color: var(--fill-color);\n",
              "      border-top-color: var(--fill-color);\n",
              "      border-right-color: var(--fill-color);\n",
              "    }\n",
              "    40% {\n",
              "      border-color: transparent;\n",
              "      border-right-color: var(--fill-color);\n",
              "      border-top-color: var(--fill-color);\n",
              "    }\n",
              "    60% {\n",
              "      border-color: transparent;\n",
              "      border-right-color: var(--fill-color);\n",
              "    }\n",
              "    80% {\n",
              "      border-color: transparent;\n",
              "      border-right-color: var(--fill-color);\n",
              "      border-bottom-color: var(--fill-color);\n",
              "    }\n",
              "    90% {\n",
              "      border-color: transparent;\n",
              "      border-bottom-color: var(--fill-color);\n",
              "    }\n",
              "  }\n",
              "</style>\n",
              "\n",
              "  <script>\n",
              "    async function quickchart(key) {\n",
              "      const quickchartButtonEl =\n",
              "        document.querySelector('#' + key + ' button');\n",
              "      quickchartButtonEl.disabled = true;  // To prevent multiple clicks.\n",
              "      quickchartButtonEl.classList.add('colab-df-spinner');\n",
              "      try {\n",
              "        const charts = await google.colab.kernel.invokeFunction(\n",
              "            'suggestCharts', [key], {});\n",
              "      } catch (error) {\n",
              "        console.error('Error during call to suggestCharts:', error);\n",
              "      }\n",
              "      quickchartButtonEl.classList.remove('colab-df-spinner');\n",
              "      quickchartButtonEl.classList.add('colab-df-quickchart-complete');\n",
              "    }\n",
              "    (() => {\n",
              "      let quickchartButtonEl =\n",
              "        document.querySelector('#df-fc890d4a-b5ab-4b90-806f-4243316b42a2 button');\n",
              "      quickchartButtonEl.style.display =\n",
              "        google.colab.kernel.accessAllowed ? 'block' : 'none';\n",
              "    })();\n",
              "  </script>\n",
              "</div>\n",
              "    </div>\n",
              "  </div>\n"
            ]
          },
          "metadata": {},
          "execution_count": 3
        }
      ]
    },
    {
      "cell_type": "code",
      "source": [
        "concrete_data.shape"
      ],
      "metadata": {
        "colab": {
          "base_uri": "https://localhost:8080/"
        },
        "id": "RaXGtkCHTqB8",
        "outputId": "8c03b786-7e64-4456-d891-6b122b35a6d5"
      },
      "execution_count": 4,
      "outputs": [
        {
          "output_type": "execute_result",
          "data": {
            "text/plain": [
              "(1030, 9)"
            ]
          },
          "metadata": {},
          "execution_count": 4
        }
      ]
    },
    {
      "cell_type": "code",
      "source": [
        "concrete_data.describe()"
      ],
      "metadata": {
        "colab": {
          "base_uri": "https://localhost:8080/",
          "height": 317
        },
        "id": "tv8LtWbKTvEE",
        "outputId": "dbbedbc9-d4a6-4a14-99de-533ff05f416f"
      },
      "execution_count": 5,
      "outputs": [
        {
          "output_type": "execute_result",
          "data": {
            "text/plain": [
              "            Cement  Blast Furnace Slag      Fly Ash        Water  \\\n",
              "count  1030.000000         1030.000000  1030.000000  1030.000000   \n",
              "mean    281.167864           73.895825    54.188350   181.567282   \n",
              "std     104.506364           86.279342    63.997004    21.354219   \n",
              "min     102.000000            0.000000     0.000000   121.800000   \n",
              "25%     192.375000            0.000000     0.000000   164.900000   \n",
              "50%     272.900000           22.000000     0.000000   185.000000   \n",
              "75%     350.000000          142.950000   118.300000   192.000000   \n",
              "max     540.000000          359.400000   200.100000   247.000000   \n",
              "\n",
              "       Superplasticizer  Coarse Aggregate  Fine Aggregate          Age  \\\n",
              "count       1030.000000       1030.000000     1030.000000  1030.000000   \n",
              "mean           6.204660        972.918932      773.580485    45.662136   \n",
              "std            5.973841         77.753954       80.175980    63.169912   \n",
              "min            0.000000        801.000000      594.000000     1.000000   \n",
              "25%            0.000000        932.000000      730.950000     7.000000   \n",
              "50%            6.400000        968.000000      779.500000    28.000000   \n",
              "75%           10.200000       1029.400000      824.000000    56.000000   \n",
              "max           32.200000       1145.000000      992.600000   365.000000   \n",
              "\n",
              "          Strength  \n",
              "count  1030.000000  \n",
              "mean     35.817961  \n",
              "std      16.705742  \n",
              "min       2.330000  \n",
              "25%      23.710000  \n",
              "50%      34.445000  \n",
              "75%      46.135000  \n",
              "max      82.600000  "
            ],
            "text/html": [
              "\n",
              "  <div id=\"df-3bf8cdf6-5cbc-4e6f-84d9-8fdefc00a966\" class=\"colab-df-container\">\n",
              "    <div>\n",
              "<style scoped>\n",
              "    .dataframe tbody tr th:only-of-type {\n",
              "        vertical-align: middle;\n",
              "    }\n",
              "\n",
              "    .dataframe tbody tr th {\n",
              "        vertical-align: top;\n",
              "    }\n",
              "\n",
              "    .dataframe thead th {\n",
              "        text-align: right;\n",
              "    }\n",
              "</style>\n",
              "<table border=\"1\" class=\"dataframe\">\n",
              "  <thead>\n",
              "    <tr style=\"text-align: right;\">\n",
              "      <th></th>\n",
              "      <th>Cement</th>\n",
              "      <th>Blast Furnace Slag</th>\n",
              "      <th>Fly Ash</th>\n",
              "      <th>Water</th>\n",
              "      <th>Superplasticizer</th>\n",
              "      <th>Coarse Aggregate</th>\n",
              "      <th>Fine Aggregate</th>\n",
              "      <th>Age</th>\n",
              "      <th>Strength</th>\n",
              "    </tr>\n",
              "  </thead>\n",
              "  <tbody>\n",
              "    <tr>\n",
              "      <th>count</th>\n",
              "      <td>1030.000000</td>\n",
              "      <td>1030.000000</td>\n",
              "      <td>1030.000000</td>\n",
              "      <td>1030.000000</td>\n",
              "      <td>1030.000000</td>\n",
              "      <td>1030.000000</td>\n",
              "      <td>1030.000000</td>\n",
              "      <td>1030.000000</td>\n",
              "      <td>1030.000000</td>\n",
              "    </tr>\n",
              "    <tr>\n",
              "      <th>mean</th>\n",
              "      <td>281.167864</td>\n",
              "      <td>73.895825</td>\n",
              "      <td>54.188350</td>\n",
              "      <td>181.567282</td>\n",
              "      <td>6.204660</td>\n",
              "      <td>972.918932</td>\n",
              "      <td>773.580485</td>\n",
              "      <td>45.662136</td>\n",
              "      <td>35.817961</td>\n",
              "    </tr>\n",
              "    <tr>\n",
              "      <th>std</th>\n",
              "      <td>104.506364</td>\n",
              "      <td>86.279342</td>\n",
              "      <td>63.997004</td>\n",
              "      <td>21.354219</td>\n",
              "      <td>5.973841</td>\n",
              "      <td>77.753954</td>\n",
              "      <td>80.175980</td>\n",
              "      <td>63.169912</td>\n",
              "      <td>16.705742</td>\n",
              "    </tr>\n",
              "    <tr>\n",
              "      <th>min</th>\n",
              "      <td>102.000000</td>\n",
              "      <td>0.000000</td>\n",
              "      <td>0.000000</td>\n",
              "      <td>121.800000</td>\n",
              "      <td>0.000000</td>\n",
              "      <td>801.000000</td>\n",
              "      <td>594.000000</td>\n",
              "      <td>1.000000</td>\n",
              "      <td>2.330000</td>\n",
              "    </tr>\n",
              "    <tr>\n",
              "      <th>25%</th>\n",
              "      <td>192.375000</td>\n",
              "      <td>0.000000</td>\n",
              "      <td>0.000000</td>\n",
              "      <td>164.900000</td>\n",
              "      <td>0.000000</td>\n",
              "      <td>932.000000</td>\n",
              "      <td>730.950000</td>\n",
              "      <td>7.000000</td>\n",
              "      <td>23.710000</td>\n",
              "    </tr>\n",
              "    <tr>\n",
              "      <th>50%</th>\n",
              "      <td>272.900000</td>\n",
              "      <td>22.000000</td>\n",
              "      <td>0.000000</td>\n",
              "      <td>185.000000</td>\n",
              "      <td>6.400000</td>\n",
              "      <td>968.000000</td>\n",
              "      <td>779.500000</td>\n",
              "      <td>28.000000</td>\n",
              "      <td>34.445000</td>\n",
              "    </tr>\n",
              "    <tr>\n",
              "      <th>75%</th>\n",
              "      <td>350.000000</td>\n",
              "      <td>142.950000</td>\n",
              "      <td>118.300000</td>\n",
              "      <td>192.000000</td>\n",
              "      <td>10.200000</td>\n",
              "      <td>1029.400000</td>\n",
              "      <td>824.000000</td>\n",
              "      <td>56.000000</td>\n",
              "      <td>46.135000</td>\n",
              "    </tr>\n",
              "    <tr>\n",
              "      <th>max</th>\n",
              "      <td>540.000000</td>\n",
              "      <td>359.400000</td>\n",
              "      <td>200.100000</td>\n",
              "      <td>247.000000</td>\n",
              "      <td>32.200000</td>\n",
              "      <td>1145.000000</td>\n",
              "      <td>992.600000</td>\n",
              "      <td>365.000000</td>\n",
              "      <td>82.600000</td>\n",
              "    </tr>\n",
              "  </tbody>\n",
              "</table>\n",
              "</div>\n",
              "    <div class=\"colab-df-buttons\">\n",
              "\n",
              "  <div class=\"colab-df-container\">\n",
              "    <button class=\"colab-df-convert\" onclick=\"convertToInteractive('df-3bf8cdf6-5cbc-4e6f-84d9-8fdefc00a966')\"\n",
              "            title=\"Convert this dataframe to an interactive table.\"\n",
              "            style=\"display:none;\">\n",
              "\n",
              "  <svg xmlns=\"http://www.w3.org/2000/svg\" height=\"24px\" viewBox=\"0 -960 960 960\">\n",
              "    <path d=\"M120-120v-720h720v720H120Zm60-500h600v-160H180v160Zm220 220h160v-160H400v160Zm0 220h160v-160H400v160ZM180-400h160v-160H180v160Zm440 0h160v-160H620v160ZM180-180h160v-160H180v160Zm440 0h160v-160H620v160Z\"/>\n",
              "  </svg>\n",
              "    </button>\n",
              "\n",
              "  <style>\n",
              "    .colab-df-container {\n",
              "      display:flex;\n",
              "      gap: 12px;\n",
              "    }\n",
              "\n",
              "    .colab-df-convert {\n",
              "      background-color: #E8F0FE;\n",
              "      border: none;\n",
              "      border-radius: 50%;\n",
              "      cursor: pointer;\n",
              "      display: none;\n",
              "      fill: #1967D2;\n",
              "      height: 32px;\n",
              "      padding: 0 0 0 0;\n",
              "      width: 32px;\n",
              "    }\n",
              "\n",
              "    .colab-df-convert:hover {\n",
              "      background-color: #E2EBFA;\n",
              "      box-shadow: 0px 1px 2px rgba(60, 64, 67, 0.3), 0px 1px 3px 1px rgba(60, 64, 67, 0.15);\n",
              "      fill: #174EA6;\n",
              "    }\n",
              "\n",
              "    .colab-df-buttons div {\n",
              "      margin-bottom: 4px;\n",
              "    }\n",
              "\n",
              "    [theme=dark] .colab-df-convert {\n",
              "      background-color: #3B4455;\n",
              "      fill: #D2E3FC;\n",
              "    }\n",
              "\n",
              "    [theme=dark] .colab-df-convert:hover {\n",
              "      background-color: #434B5C;\n",
              "      box-shadow: 0px 1px 3px 1px rgba(0, 0, 0, 0.15);\n",
              "      filter: drop-shadow(0px 1px 2px rgba(0, 0, 0, 0.3));\n",
              "      fill: #FFFFFF;\n",
              "    }\n",
              "  </style>\n",
              "\n",
              "    <script>\n",
              "      const buttonEl =\n",
              "        document.querySelector('#df-3bf8cdf6-5cbc-4e6f-84d9-8fdefc00a966 button.colab-df-convert');\n",
              "      buttonEl.style.display =\n",
              "        google.colab.kernel.accessAllowed ? 'block' : 'none';\n",
              "\n",
              "      async function convertToInteractive(key) {\n",
              "        const element = document.querySelector('#df-3bf8cdf6-5cbc-4e6f-84d9-8fdefc00a966');\n",
              "        const dataTable =\n",
              "          await google.colab.kernel.invokeFunction('convertToInteractive',\n",
              "                                                    [key], {});\n",
              "        if (!dataTable) return;\n",
              "\n",
              "        const docLinkHtml = 'Like what you see? Visit the ' +\n",
              "          '<a target=\"_blank\" href=https://colab.research.google.com/notebooks/data_table.ipynb>data table notebook</a>'\n",
              "          + ' to learn more about interactive tables.';\n",
              "        element.innerHTML = '';\n",
              "        dataTable['output_type'] = 'display_data';\n",
              "        await google.colab.output.renderOutput(dataTable, element);\n",
              "        const docLink = document.createElement('div');\n",
              "        docLink.innerHTML = docLinkHtml;\n",
              "        element.appendChild(docLink);\n",
              "      }\n",
              "    </script>\n",
              "  </div>\n",
              "\n",
              "\n",
              "<div id=\"df-08171b4b-577d-42a6-a001-1c9df34fae8b\">\n",
              "  <button class=\"colab-df-quickchart\" onclick=\"quickchart('df-08171b4b-577d-42a6-a001-1c9df34fae8b')\"\n",
              "            title=\"Suggest charts.\"\n",
              "            style=\"display:none;\">\n",
              "\n",
              "<svg xmlns=\"http://www.w3.org/2000/svg\" height=\"24px\"viewBox=\"0 0 24 24\"\n",
              "     width=\"24px\">\n",
              "    <g>\n",
              "        <path d=\"M19 3H5c-1.1 0-2 .9-2 2v14c0 1.1.9 2 2 2h14c1.1 0 2-.9 2-2V5c0-1.1-.9-2-2-2zM9 17H7v-7h2v7zm4 0h-2V7h2v10zm4 0h-2v-4h2v4z\"/>\n",
              "    </g>\n",
              "</svg>\n",
              "  </button>\n",
              "\n",
              "<style>\n",
              "  .colab-df-quickchart {\n",
              "      --bg-color: #E8F0FE;\n",
              "      --fill-color: #1967D2;\n",
              "      --hover-bg-color: #E2EBFA;\n",
              "      --hover-fill-color: #174EA6;\n",
              "      --disabled-fill-color: #AAA;\n",
              "      --disabled-bg-color: #DDD;\n",
              "  }\n",
              "\n",
              "  [theme=dark] .colab-df-quickchart {\n",
              "      --bg-color: #3B4455;\n",
              "      --fill-color: #D2E3FC;\n",
              "      --hover-bg-color: #434B5C;\n",
              "      --hover-fill-color: #FFFFFF;\n",
              "      --disabled-bg-color: #3B4455;\n",
              "      --disabled-fill-color: #666;\n",
              "  }\n",
              "\n",
              "  .colab-df-quickchart {\n",
              "    background-color: var(--bg-color);\n",
              "    border: none;\n",
              "    border-radius: 50%;\n",
              "    cursor: pointer;\n",
              "    display: none;\n",
              "    fill: var(--fill-color);\n",
              "    height: 32px;\n",
              "    padding: 0;\n",
              "    width: 32px;\n",
              "  }\n",
              "\n",
              "  .colab-df-quickchart:hover {\n",
              "    background-color: var(--hover-bg-color);\n",
              "    box-shadow: 0 1px 2px rgba(60, 64, 67, 0.3), 0 1px 3px 1px rgba(60, 64, 67, 0.15);\n",
              "    fill: var(--button-hover-fill-color);\n",
              "  }\n",
              "\n",
              "  .colab-df-quickchart-complete:disabled,\n",
              "  .colab-df-quickchart-complete:disabled:hover {\n",
              "    background-color: var(--disabled-bg-color);\n",
              "    fill: var(--disabled-fill-color);\n",
              "    box-shadow: none;\n",
              "  }\n",
              "\n",
              "  .colab-df-spinner {\n",
              "    border: 2px solid var(--fill-color);\n",
              "    border-color: transparent;\n",
              "    border-bottom-color: var(--fill-color);\n",
              "    animation:\n",
              "      spin 1s steps(1) infinite;\n",
              "  }\n",
              "\n",
              "  @keyframes spin {\n",
              "    0% {\n",
              "      border-color: transparent;\n",
              "      border-bottom-color: var(--fill-color);\n",
              "      border-left-color: var(--fill-color);\n",
              "    }\n",
              "    20% {\n",
              "      border-color: transparent;\n",
              "      border-left-color: var(--fill-color);\n",
              "      border-top-color: var(--fill-color);\n",
              "    }\n",
              "    30% {\n",
              "      border-color: transparent;\n",
              "      border-left-color: var(--fill-color);\n",
              "      border-top-color: var(--fill-color);\n",
              "      border-right-color: var(--fill-color);\n",
              "    }\n",
              "    40% {\n",
              "      border-color: transparent;\n",
              "      border-right-color: var(--fill-color);\n",
              "      border-top-color: var(--fill-color);\n",
              "    }\n",
              "    60% {\n",
              "      border-color: transparent;\n",
              "      border-right-color: var(--fill-color);\n",
              "    }\n",
              "    80% {\n",
              "      border-color: transparent;\n",
              "      border-right-color: var(--fill-color);\n",
              "      border-bottom-color: var(--fill-color);\n",
              "    }\n",
              "    90% {\n",
              "      border-color: transparent;\n",
              "      border-bottom-color: var(--fill-color);\n",
              "    }\n",
              "  }\n",
              "</style>\n",
              "\n",
              "  <script>\n",
              "    async function quickchart(key) {\n",
              "      const quickchartButtonEl =\n",
              "        document.querySelector('#' + key + ' button');\n",
              "      quickchartButtonEl.disabled = true;  // To prevent multiple clicks.\n",
              "      quickchartButtonEl.classList.add('colab-df-spinner');\n",
              "      try {\n",
              "        const charts = await google.colab.kernel.invokeFunction(\n",
              "            'suggestCharts', [key], {});\n",
              "      } catch (error) {\n",
              "        console.error('Error during call to suggestCharts:', error);\n",
              "      }\n",
              "      quickchartButtonEl.classList.remove('colab-df-spinner');\n",
              "      quickchartButtonEl.classList.add('colab-df-quickchart-complete');\n",
              "    }\n",
              "    (() => {\n",
              "      let quickchartButtonEl =\n",
              "        document.querySelector('#df-08171b4b-577d-42a6-a001-1c9df34fae8b button');\n",
              "      quickchartButtonEl.style.display =\n",
              "        google.colab.kernel.accessAllowed ? 'block' : 'none';\n",
              "    })();\n",
              "  </script>\n",
              "</div>\n",
              "    </div>\n",
              "  </div>\n"
            ]
          },
          "metadata": {},
          "execution_count": 5
        }
      ]
    },
    {
      "cell_type": "markdown",
      "source": [
        "### Spliting data into predictors and target"
      ],
      "metadata": {
        "id": "uUhY6N7jT4w7"
      }
    },
    {
      "cell_type": "code",
      "source": [
        "concrete_data_columns = concrete_data.columns\n",
        "\n",
        "predictors = concrete_data[concrete_data_columns[concrete_data_columns != 'Strength']] # all columns except Strength\n",
        "target = concrete_data['Strength'] # Strength column"
      ],
      "metadata": {
        "id": "orvp1dEtTzrU"
      },
      "execution_count": 6,
      "outputs": []
    },
    {
      "cell_type": "code",
      "source": [
        "n_cols = predictors.shape[1] # number of predictors\n"
      ],
      "metadata": {
        "id": "9aaC74SWUC2U"
      },
      "execution_count": 7,
      "outputs": []
    },
    {
      "cell_type": "markdown",
      "source": [
        "### Importing Keras"
      ],
      "metadata": {
        "id": "84cJv3YKUReP"
      }
    },
    {
      "cell_type": "code",
      "source": [
        "import keras"
      ],
      "metadata": {
        "id": "tJOubcluUOFT"
      },
      "execution_count": 8,
      "outputs": []
    },
    {
      "cell_type": "code",
      "source": [
        "from keras.models import Sequential\n",
        "from keras.layers import Dense"
      ],
      "metadata": {
        "id": "VnCqwkPvUVvi"
      },
      "execution_count": 9,
      "outputs": []
    },
    {
      "cell_type": "markdown",
      "source": [
        "### Building Neural Network"
      ],
      "metadata": {
        "id": "2QlLn4yTUbiM"
      }
    },
    {
      "cell_type": "code",
      "source": [
        "def regression_model():\n",
        "    # create model\n",
        "    model = Sequential()\n",
        "    model.add(Dense(10, activation='relu', input_shape=(n_cols,)))\n",
        "    model.add(Dense(1))\n",
        "\n",
        "    # compile model\n",
        "    model.compile(optimizer='adam', loss='mean_squared_error')\n",
        "    return model\n",
        "\n",
        "model_A = regression_model()"
      ],
      "metadata": {
        "id": "1pOVy-bSUYPb"
      },
      "execution_count": 10,
      "outputs": []
    },
    {
      "cell_type": "markdown",
      "source": [
        "## 1. Randomly split the data into a training and test sets by holding 30% of the data for testing. You can use the train_test_split helper function from Scikit-learn."
      ],
      "metadata": {
        "id": "kNiv9QvQUn2M"
      }
    },
    {
      "cell_type": "code",
      "source": [
        "from sklearn.model_selection import train_test_split\n",
        "X_train, X_test, y_train, y_test = train_test_split(predictors, target, test_size=0.3)\n",
        "\n",
        "y_test.head()"
      ],
      "metadata": {
        "colab": {
          "base_uri": "https://localhost:8080/"
        },
        "id": "FkWFflv8Uhba",
        "outputId": "7ea6922b-7650-4854-9ab9-124e39dc41f7"
      },
      "execution_count": 11,
      "outputs": [
        {
          "output_type": "execute_result",
          "data": {
            "text/plain": [
              "833    36.35\n",
              "729    37.91\n",
              "674    13.57\n",
              "135    66.00\n",
              "277    36.97\n",
              "Name: Strength, dtype: float64"
            ]
          },
          "metadata": {},
          "execution_count": 11
        }
      ]
    },
    {
      "cell_type": "markdown",
      "source": [
        "## 2. Train the model on the training data using 50 epochs."
      ],
      "metadata": {
        "id": "bnk6fetKUwsi"
      }
    },
    {
      "cell_type": "code",
      "source": [
        "model_A.fit(X_train, y_train, validation_split=0.3, epochs=50, verbose=2)"
      ],
      "metadata": {
        "colab": {
          "base_uri": "https://localhost:8080/"
        },
        "id": "Q3r6OjPdUsty",
        "outputId": "341a5967-2f76-41ca-e215-7d38bd1f2b1b"
      },
      "execution_count": 12,
      "outputs": [
        {
          "output_type": "stream",
          "name": "stdout",
          "text": [
            "Epoch 1/50\n",
            "16/16 - 1s - loss: 177633.9531 - val_loss: 133527.5625 - 1s/epoch - 69ms/step\n",
            "Epoch 2/50\n",
            "16/16 - 0s - loss: 99726.2266 - val_loss: 68998.1953 - 55ms/epoch - 3ms/step\n",
            "Epoch 3/50\n",
            "16/16 - 0s - loss: 47926.2969 - val_loss: 30667.7012 - 58ms/epoch - 4ms/step\n",
            "Epoch 4/50\n",
            "16/16 - 0s - loss: 20099.0586 - val_loss: 12439.4834 - 75ms/epoch - 5ms/step\n",
            "Epoch 5/50\n",
            "16/16 - 0s - loss: 8336.3584 - val_loss: 6088.8706 - 52ms/epoch - 3ms/step\n",
            "Epoch 6/50\n",
            "16/16 - 0s - loss: 4972.3643 - val_loss: 4368.3184 - 51ms/epoch - 3ms/step\n",
            "Epoch 7/50\n",
            "16/16 - 0s - loss: 4150.2480 - val_loss: 3955.2151 - 54ms/epoch - 3ms/step\n",
            "Epoch 8/50\n",
            "16/16 - 0s - loss: 3890.8269 - val_loss: 3713.3247 - 66ms/epoch - 4ms/step\n",
            "Epoch 9/50\n",
            "16/16 - 0s - loss: 3659.2456 - val_loss: 3498.1816 - 58ms/epoch - 4ms/step\n",
            "Epoch 10/50\n",
            "16/16 - 0s - loss: 3424.5308 - val_loss: 3285.1582 - 69ms/epoch - 4ms/step\n",
            "Epoch 11/50\n",
            "16/16 - 0s - loss: 3189.2148 - val_loss: 3073.6572 - 68ms/epoch - 4ms/step\n",
            "Epoch 12/50\n",
            "16/16 - 0s - loss: 2968.9229 - val_loss: 2860.8174 - 52ms/epoch - 3ms/step\n",
            "Epoch 13/50\n",
            "16/16 - 0s - loss: 2747.4185 - val_loss: 2659.9878 - 64ms/epoch - 4ms/step\n",
            "Epoch 14/50\n",
            "16/16 - 0s - loss: 2547.5669 - val_loss: 2468.8523 - 67ms/epoch - 4ms/step\n",
            "Epoch 15/50\n",
            "16/16 - 0s - loss: 2355.1636 - val_loss: 2293.6982 - 54ms/epoch - 3ms/step\n",
            "Epoch 16/50\n",
            "16/16 - 0s - loss: 2171.3086 - val_loss: 2120.6990 - 64ms/epoch - 4ms/step\n",
            "Epoch 17/50\n",
            "16/16 - 0s - loss: 1999.0093 - val_loss: 1963.9473 - 70ms/epoch - 4ms/step\n",
            "Epoch 18/50\n",
            "16/16 - 0s - loss: 1837.8373 - val_loss: 1811.4945 - 53ms/epoch - 3ms/step\n",
            "Epoch 19/50\n",
            "16/16 - 0s - loss: 1689.6957 - val_loss: 1671.4733 - 67ms/epoch - 4ms/step\n",
            "Epoch 20/50\n",
            "16/16 - 0s - loss: 1553.7410 - val_loss: 1552.6383 - 66ms/epoch - 4ms/step\n",
            "Epoch 21/50\n",
            "16/16 - 0s - loss: 1436.5750 - val_loss: 1442.8230 - 63ms/epoch - 4ms/step\n",
            "Epoch 22/50\n",
            "16/16 - 0s - loss: 1323.3431 - val_loss: 1333.1580 - 58ms/epoch - 4ms/step\n",
            "Epoch 23/50\n",
            "16/16 - 0s - loss: 1222.0096 - val_loss: 1240.7634 - 66ms/epoch - 4ms/step\n",
            "Epoch 24/50\n",
            "16/16 - 0s - loss: 1127.8934 - val_loss: 1150.6611 - 76ms/epoch - 5ms/step\n",
            "Epoch 25/50\n",
            "16/16 - 0s - loss: 1044.7228 - val_loss: 1069.9105 - 68ms/epoch - 4ms/step\n",
            "Epoch 26/50\n",
            "16/16 - 0s - loss: 959.5935 - val_loss: 992.9013 - 54ms/epoch - 3ms/step\n",
            "Epoch 27/50\n",
            "16/16 - 0s - loss: 885.9998 - val_loss: 922.9768 - 56ms/epoch - 3ms/step\n",
            "Epoch 28/50\n",
            "16/16 - 0s - loss: 819.4135 - val_loss: 857.2479 - 65ms/epoch - 4ms/step\n",
            "Epoch 29/50\n",
            "16/16 - 0s - loss: 758.3981 - val_loss: 800.0104 - 67ms/epoch - 4ms/step\n",
            "Epoch 30/50\n",
            "16/16 - 0s - loss: 705.5675 - val_loss: 741.9680 - 64ms/epoch - 4ms/step\n",
            "Epoch 31/50\n",
            "16/16 - 0s - loss: 656.4382 - val_loss: 693.1609 - 52ms/epoch - 3ms/step\n",
            "Epoch 32/50\n",
            "16/16 - 0s - loss: 608.7208 - val_loss: 644.2673 - 67ms/epoch - 4ms/step\n",
            "Epoch 33/50\n",
            "16/16 - 0s - loss: 567.0281 - val_loss: 602.6757 - 65ms/epoch - 4ms/step\n",
            "Epoch 34/50\n",
            "16/16 - 0s - loss: 527.4730 - val_loss: 565.2791 - 66ms/epoch - 4ms/step\n",
            "Epoch 35/50\n",
            "16/16 - 0s - loss: 494.4763 - val_loss: 529.8793 - 54ms/epoch - 3ms/step\n",
            "Epoch 36/50\n",
            "16/16 - 0s - loss: 463.4074 - val_loss: 496.5651 - 64ms/epoch - 4ms/step\n",
            "Epoch 37/50\n",
            "16/16 - 0s - loss: 436.3089 - val_loss: 463.6248 - 58ms/epoch - 4ms/step\n",
            "Epoch 38/50\n",
            "16/16 - 0s - loss: 409.7109 - val_loss: 436.7210 - 68ms/epoch - 4ms/step\n",
            "Epoch 39/50\n",
            "16/16 - 0s - loss: 388.6080 - val_loss: 411.9564 - 71ms/epoch - 4ms/step\n",
            "Epoch 40/50\n",
            "16/16 - 0s - loss: 364.6534 - val_loss: 385.7322 - 65ms/epoch - 4ms/step\n",
            "Epoch 41/50\n",
            "16/16 - 0s - loss: 346.2102 - val_loss: 363.1940 - 68ms/epoch - 4ms/step\n",
            "Epoch 42/50\n",
            "16/16 - 0s - loss: 327.9744 - val_loss: 343.5763 - 54ms/epoch - 3ms/step\n",
            "Epoch 43/50\n",
            "16/16 - 0s - loss: 312.7645 - val_loss: 326.6946 - 64ms/epoch - 4ms/step\n",
            "Epoch 44/50\n",
            "16/16 - 0s - loss: 298.6383 - val_loss: 310.6985 - 69ms/epoch - 4ms/step\n",
            "Epoch 45/50\n",
            "16/16 - 0s - loss: 286.3039 - val_loss: 297.9557 - 52ms/epoch - 3ms/step\n",
            "Epoch 46/50\n",
            "16/16 - 0s - loss: 275.4603 - val_loss: 283.9936 - 63ms/epoch - 4ms/step\n",
            "Epoch 47/50\n",
            "16/16 - 0s - loss: 264.9132 - val_loss: 272.0607 - 72ms/epoch - 4ms/step\n",
            "Epoch 48/50\n",
            "16/16 - 0s - loss: 255.0727 - val_loss: 261.6282 - 64ms/epoch - 4ms/step\n",
            "Epoch 49/50\n",
            "16/16 - 0s - loss: 246.8149 - val_loss: 252.7379 - 53ms/epoch - 3ms/step\n",
            "Epoch 50/50\n",
            "16/16 - 0s - loss: 239.1537 - val_loss: 243.9325 - 51ms/epoch - 3ms/step\n"
          ]
        },
        {
          "output_type": "execute_result",
          "data": {
            "text/plain": [
              "<keras.src.callbacks.History at 0x7c6a34f49240>"
            ]
          },
          "metadata": {},
          "execution_count": 12
        }
      ]
    },
    {
      "cell_type": "markdown",
      "source": [
        "## 3. Evaluate the model on the test data and compute the mean squared error between the predicted concrete strength and the actual concrete strength. You can use the mean_squared_error function from Scikit-learn."
      ],
      "metadata": {
        "id": "oEj1GrfdVDgD"
      }
    },
    {
      "cell_type": "code",
      "source": [
        "from sklearn.metrics import mean_squared_error\n",
        "\n",
        "y_pred = model_A.predict(X_test)\n",
        "\n",
        "mean_squared_error(y_test, y_pred)"
      ],
      "metadata": {
        "colab": {
          "base_uri": "https://localhost:8080/"
        },
        "id": "y08gYqHpU5Zr",
        "outputId": "d2a9faa9-b20a-4e60-8263-b12ea3e3ea63"
      },
      "execution_count": 13,
      "outputs": [
        {
          "output_type": "stream",
          "name": "stdout",
          "text": [
            "10/10 [==============================] - 0s 2ms/step\n"
          ]
        },
        {
          "output_type": "execute_result",
          "data": {
            "text/plain": [
              "241.70674554283573"
            ]
          },
          "metadata": {},
          "execution_count": 13
        }
      ]
    },
    {
      "cell_type": "markdown",
      "source": [
        "## 4. Repeat steps 1 - 3, 50 times, i.e., create a list of 50 mean squared errors."
      ],
      "metadata": {
        "id": "eoaMEOxWVMVk"
      }
    },
    {
      "cell_type": "code",
      "source": [
        "model_A = regression_model()\n",
        "\n",
        "mse_list = []\n",
        "\n",
        "def get_mse(model):\n",
        "    X_train, X_test, y_train, y_test = train_test_split(predictors, target, test_size=0.3)\n",
        "    model.fit(X_train, y_train, validation_split=0.3, epochs=50, verbose=0)\n",
        "    y_pred = model.predict(X_test)\n",
        "    return mean_squared_error(y_test, y_pred)"
      ],
      "metadata": {
        "id": "YuTRriAIVIbH"
      },
      "execution_count": 14,
      "outputs": []
    },
    {
      "cell_type": "code",
      "source": [
        "for i in range(50):\n",
        "    print('Computing {}th iteration'.format(i+1))\n",
        "    mse_list.append(get_mse(model_A))\n",
        "\n",
        "mse_list[:10]"
      ],
      "metadata": {
        "colab": {
          "base_uri": "https://localhost:8080/"
        },
        "id": "C033Mu42VVVO",
        "outputId": "fd729444-37ff-4d77-a2d2-1b30be256606"
      },
      "execution_count": 15,
      "outputs": [
        {
          "output_type": "stream",
          "name": "stdout",
          "text": [
            "Computing 1th iteration\n",
            "10/10 [==============================] - 0s 2ms/step\n",
            "Computing 2th iteration\n",
            "10/10 [==============================] - 0s 2ms/step\n",
            "Computing 3th iteration\n",
            "10/10 [==============================] - 0s 2ms/step\n",
            "Computing 4th iteration\n",
            "10/10 [==============================] - 0s 3ms/step\n",
            "Computing 5th iteration\n",
            "10/10 [==============================] - 0s 2ms/step\n",
            "Computing 6th iteration\n",
            "10/10 [==============================] - 0s 2ms/step\n",
            "Computing 7th iteration\n",
            "10/10 [==============================] - 0s 1ms/step\n",
            "Computing 8th iteration\n",
            "10/10 [==============================] - 0s 2ms/step\n",
            "Computing 9th iteration\n",
            "10/10 [==============================] - 0s 2ms/step\n",
            "Computing 10th iteration\n",
            "10/10 [==============================] - 0s 2ms/step\n",
            "Computing 11th iteration\n",
            "10/10 [==============================] - 0s 3ms/step\n",
            "Computing 12th iteration\n",
            "10/10 [==============================] - 0s 2ms/step\n",
            "Computing 13th iteration\n",
            "10/10 [==============================] - 0s 2ms/step\n",
            "Computing 14th iteration\n",
            "10/10 [==============================] - 0s 2ms/step\n",
            "Computing 15th iteration\n",
            "10/10 [==============================] - 0s 2ms/step\n",
            "Computing 16th iteration\n",
            "10/10 [==============================] - 0s 2ms/step\n",
            "Computing 17th iteration\n",
            "10/10 [==============================] - 0s 2ms/step\n",
            "Computing 18th iteration\n",
            "10/10 [==============================] - 0s 2ms/step\n",
            "Computing 19th iteration\n",
            "10/10 [==============================] - 0s 2ms/step\n",
            "Computing 20th iteration\n",
            "10/10 [==============================] - 0s 2ms/step\n",
            "Computing 21th iteration\n",
            "10/10 [==============================] - 0s 2ms/step\n",
            "Computing 22th iteration\n",
            "10/10 [==============================] - 0s 2ms/step\n",
            "Computing 23th iteration\n",
            "10/10 [==============================] - 0s 2ms/step\n",
            "Computing 24th iteration\n",
            "10/10 [==============================] - 0s 2ms/step\n",
            "Computing 25th iteration\n",
            "10/10 [==============================] - 0s 7ms/step\n",
            "Computing 26th iteration\n",
            "10/10 [==============================] - 0s 2ms/step\n",
            "Computing 27th iteration\n",
            "10/10 [==============================] - 0s 2ms/step\n",
            "Computing 28th iteration\n",
            "10/10 [==============================] - 0s 2ms/step\n",
            "Computing 29th iteration\n",
            "10/10 [==============================] - 0s 2ms/step\n",
            "Computing 30th iteration\n",
            "10/10 [==============================] - 0s 2ms/step\n",
            "Computing 31th iteration\n",
            "10/10 [==============================] - 0s 2ms/step\n",
            "Computing 32th iteration\n",
            "10/10 [==============================] - 0s 2ms/step\n",
            "Computing 33th iteration\n",
            "10/10 [==============================] - 0s 2ms/step\n",
            "Computing 34th iteration\n",
            "10/10 [==============================] - 0s 2ms/step\n",
            "Computing 35th iteration\n",
            "10/10 [==============================] - 0s 2ms/step\n",
            "Computing 36th iteration\n",
            "10/10 [==============================] - 0s 1ms/step\n",
            "Computing 37th iteration\n",
            "10/10 [==============================] - 0s 1ms/step\n",
            "Computing 38th iteration\n",
            "10/10 [==============================] - 0s 2ms/step\n",
            "Computing 39th iteration\n",
            "10/10 [==============================] - 0s 2ms/step\n",
            "Computing 40th iteration\n",
            "10/10 [==============================] - 0s 2ms/step\n",
            "Computing 41th iteration\n",
            "10/10 [==============================] - 0s 2ms/step\n",
            "Computing 42th iteration\n",
            "10/10 [==============================] - 0s 2ms/step\n",
            "Computing 43th iteration\n",
            "10/10 [==============================] - 0s 2ms/step\n",
            "Computing 44th iteration\n",
            "10/10 [==============================] - 0s 2ms/step\n",
            "Computing 45th iteration\n",
            "10/10 [==============================] - 0s 2ms/step\n",
            "Computing 46th iteration\n",
            "10/10 [==============================] - 0s 2ms/step\n",
            "Computing 47th iteration\n",
            "10/10 [==============================] - 0s 2ms/step\n",
            "Computing 48th iteration\n",
            "10/10 [==============================] - 0s 2ms/step\n",
            "Computing 49th iteration\n",
            "10/10 [==============================] - 0s 2ms/step\n",
            "Computing 50th iteration\n",
            "10/10 [==============================] - 0s 2ms/step\n"
          ]
        },
        {
          "output_type": "execute_result",
          "data": {
            "text/plain": [
              "[563.2681467658149,\n",
              " 250.6339279412064,\n",
              " 108.74136670388503,\n",
              " 105.64128694773673,\n",
              " 90.88535817946855,\n",
              " 83.91768077715024,\n",
              " 77.07808843929357,\n",
              " 78.2043152091217,\n",
              " 69.16948082569387,\n",
              " 74.46209224485808]"
            ]
          },
          "metadata": {},
          "execution_count": 15
        }
      ]
    },
    {
      "cell_type": "markdown",
      "source": [
        "## 5. Report the mean and the standard deviation of the mean squared errors"
      ],
      "metadata": {
        "id": "cPeNvTRtVkr-"
      }
    },
    {
      "cell_type": "code",
      "source": [
        "mean_mse = np.mean(mse_list)\n",
        "print('Mean MSE: ', mean_mse)"
      ],
      "metadata": {
        "colab": {
          "base_uri": "https://localhost:8080/"
        },
        "id": "DENPe7OJVYxO",
        "outputId": "dec35053-2335-4c29-de8c-7027dc4f6586"
      },
      "execution_count": 40,
      "outputs": [
        {
          "output_type": "stream",
          "name": "stdout",
          "text": [
            "Mean MSE:  68.93171610805422\n"
          ]
        }
      ]
    },
    {
      "cell_type": "code",
      "source": [
        "sd_mse = np.std(mse_list)\n",
        "print('Standard deviation of MSE: ', sd_mse)"
      ],
      "metadata": {
        "colab": {
          "base_uri": "https://localhost:8080/"
        },
        "id": "LwhgluVYVy0m",
        "outputId": "26ae9f8d-2ac3-4409-c0c6-93530396df61"
      },
      "execution_count": 16,
      "outputs": [
        {
          "output_type": "stream",
          "name": "stdout",
          "text": [
            "Standard deviation of MSE:  77.2949976352526\n"
          ]
        }
      ]
    },
    {
      "cell_type": "code",
      "source": [],
      "metadata": {
        "id": "h5xHxhwdWOSR"
      },
      "execution_count": 16,
      "outputs": []
    },
    {
      "cell_type": "markdown",
      "source": [
        "# B. Normalize the data (5 marks)"
      ],
      "metadata": {
        "id": "LVdSsaYPWTTH"
      }
    },
    {
      "cell_type": "code",
      "source": [
        "model_B = regression_model()\n",
        "predictors_norm = (predictors - predictors.mean()) / predictors.std()"
      ],
      "metadata": {
        "id": "m_m3a006WSa1"
      },
      "execution_count": 17,
      "outputs": []
    },
    {
      "cell_type": "code",
      "source": [
        "from sklearn.model_selection import train_test_split\n",
        "X_train, X_test, y_train, y_test = train_test_split(predictors_norm, target, test_size=0.3)\n",
        "\n",
        "y_test.head()"
      ],
      "metadata": {
        "colab": {
          "base_uri": "https://localhost:8080/"
        },
        "id": "ett9SiONWeDc",
        "outputId": "4c1e1fa1-658f-4705-efbf-c67925398a54"
      },
      "execution_count": 18,
      "outputs": [
        {
          "output_type": "execute_result",
          "data": {
            "text/plain": [
              "1014    33.31\n",
              "382     64.02\n",
              "553     25.42\n",
              "532     32.07\n",
              "880     12.18\n",
              "Name: Strength, dtype: float64"
            ]
          },
          "metadata": {},
          "execution_count": 18
        }
      ]
    },
    {
      "cell_type": "code",
      "source": [
        "model_B.fit(X_train, y_train, validation_split=0.3, epochs=50, verbose=2)"
      ],
      "metadata": {
        "colab": {
          "base_uri": "https://localhost:8080/"
        },
        "id": "vZoj-xRDWhE8",
        "outputId": "a1141793-6d82-4716-d4ce-45299961a625"
      },
      "execution_count": 19,
      "outputs": [
        {
          "output_type": "stream",
          "name": "stdout",
          "text": [
            "Epoch 1/50\n",
            "16/16 - 2s - loss: 1611.0276 - val_loss: 1456.1073 - 2s/epoch - 107ms/step\n",
            "Epoch 2/50\n",
            "16/16 - 0s - loss: 1599.4493 - val_loss: 1445.1536 - 89ms/epoch - 6ms/step\n",
            "Epoch 3/50\n",
            "16/16 - 0s - loss: 1588.3250 - val_loss: 1434.4945 - 83ms/epoch - 5ms/step\n",
            "Epoch 4/50\n",
            "16/16 - 0s - loss: 1577.5250 - val_loss: 1424.2125 - 92ms/epoch - 6ms/step\n",
            "Epoch 5/50\n",
            "16/16 - 0s - loss: 1567.0853 - val_loss: 1414.1913 - 83ms/epoch - 5ms/step\n",
            "Epoch 6/50\n",
            "16/16 - 0s - loss: 1556.7391 - val_loss: 1404.5056 - 78ms/epoch - 5ms/step\n",
            "Epoch 7/50\n",
            "16/16 - 0s - loss: 1546.7043 - val_loss: 1394.9047 - 68ms/epoch - 4ms/step\n",
            "Epoch 8/50\n",
            "16/16 - 0s - loss: 1536.6899 - val_loss: 1385.4421 - 69ms/epoch - 4ms/step\n",
            "Epoch 9/50\n",
            "16/16 - 0s - loss: 1526.8757 - val_loss: 1375.8940 - 53ms/epoch - 3ms/step\n",
            "Epoch 10/50\n",
            "16/16 - 0s - loss: 1517.0487 - val_loss: 1366.3763 - 53ms/epoch - 3ms/step\n",
            "Epoch 11/50\n",
            "16/16 - 0s - loss: 1507.0813 - val_loss: 1356.8224 - 55ms/epoch - 3ms/step\n",
            "Epoch 12/50\n",
            "16/16 - 0s - loss: 1497.0221 - val_loss: 1347.1733 - 71ms/epoch - 4ms/step\n",
            "Epoch 13/50\n",
            "16/16 - 0s - loss: 1486.8022 - val_loss: 1337.3496 - 66ms/epoch - 4ms/step\n",
            "Epoch 14/50\n",
            "16/16 - 0s - loss: 1476.3716 - val_loss: 1327.1499 - 61ms/epoch - 4ms/step\n",
            "Epoch 15/50\n",
            "16/16 - 0s - loss: 1465.2589 - val_loss: 1316.9240 - 64ms/epoch - 4ms/step\n",
            "Epoch 16/50\n",
            "16/16 - 0s - loss: 1454.1820 - val_loss: 1305.8364 - 65ms/epoch - 4ms/step\n",
            "Epoch 17/50\n",
            "16/16 - 0s - loss: 1442.2196 - val_loss: 1294.5101 - 54ms/epoch - 3ms/step\n",
            "Epoch 18/50\n",
            "16/16 - 0s - loss: 1429.8453 - val_loss: 1282.7028 - 67ms/epoch - 4ms/step\n",
            "Epoch 19/50\n",
            "16/16 - 0s - loss: 1416.7833 - val_loss: 1270.5708 - 75ms/epoch - 5ms/step\n",
            "Epoch 20/50\n",
            "16/16 - 0s - loss: 1403.5745 - val_loss: 1257.2845 - 68ms/epoch - 4ms/step\n",
            "Epoch 21/50\n",
            "16/16 - 0s - loss: 1389.5524 - val_loss: 1243.3092 - 65ms/epoch - 4ms/step\n",
            "Epoch 22/50\n",
            "16/16 - 0s - loss: 1373.9974 - val_loss: 1229.7682 - 68ms/epoch - 4ms/step\n",
            "Epoch 23/50\n",
            "16/16 - 0s - loss: 1358.7604 - val_loss: 1215.1202 - 66ms/epoch - 4ms/step\n",
            "Epoch 24/50\n",
            "16/16 - 0s - loss: 1342.7998 - val_loss: 1199.4280 - 54ms/epoch - 3ms/step\n",
            "Epoch 25/50\n",
            "16/16 - 0s - loss: 1325.8108 - val_loss: 1183.3821 - 59ms/epoch - 4ms/step\n",
            "Epoch 26/50\n",
            "16/16 - 0s - loss: 1307.9126 - val_loss: 1167.0236 - 69ms/epoch - 4ms/step\n",
            "Epoch 27/50\n",
            "16/16 - 0s - loss: 1290.0175 - val_loss: 1149.4777 - 57ms/epoch - 4ms/step\n",
            "Epoch 28/50\n",
            "16/16 - 0s - loss: 1270.8513 - val_loss: 1131.5541 - 57ms/epoch - 4ms/step\n",
            "Epoch 29/50\n",
            "16/16 - 0s - loss: 1251.0088 - val_loss: 1113.2579 - 55ms/epoch - 3ms/step\n",
            "Epoch 30/50\n",
            "16/16 - 0s - loss: 1231.4362 - val_loss: 1093.6155 - 53ms/epoch - 3ms/step\n",
            "Epoch 31/50\n",
            "16/16 - 0s - loss: 1210.1400 - val_loss: 1074.1598 - 53ms/epoch - 3ms/step\n",
            "Epoch 32/50\n",
            "16/16 - 0s - loss: 1188.5511 - val_loss: 1054.6270 - 52ms/epoch - 3ms/step\n",
            "Epoch 33/50\n",
            "16/16 - 0s - loss: 1167.0494 - val_loss: 1034.2261 - 53ms/epoch - 3ms/step\n",
            "Epoch 34/50\n",
            "16/16 - 0s - loss: 1145.3107 - val_loss: 1012.9882 - 69ms/epoch - 4ms/step\n",
            "Epoch 35/50\n",
            "16/16 - 0s - loss: 1122.5623 - val_loss: 992.1099 - 64ms/epoch - 4ms/step\n",
            "Epoch 36/50\n",
            "16/16 - 0s - loss: 1100.0627 - val_loss: 971.1353 - 56ms/epoch - 3ms/step\n",
            "Epoch 37/50\n",
            "16/16 - 0s - loss: 1077.5713 - val_loss: 949.6296 - 65ms/epoch - 4ms/step\n",
            "Epoch 38/50\n",
            "16/16 - 0s - loss: 1054.6501 - val_loss: 928.2790 - 66ms/epoch - 4ms/step\n",
            "Epoch 39/50\n",
            "16/16 - 0s - loss: 1031.4769 - val_loss: 907.4498 - 65ms/epoch - 4ms/step\n",
            "Epoch 40/50\n",
            "16/16 - 0s - loss: 1009.0284 - val_loss: 886.0629 - 66ms/epoch - 4ms/step\n",
            "Epoch 41/50\n",
            "16/16 - 0s - loss: 986.0530 - val_loss: 865.0077 - 52ms/epoch - 3ms/step\n",
            "Epoch 42/50\n",
            "16/16 - 0s - loss: 963.0594 - val_loss: 844.2316 - 56ms/epoch - 3ms/step\n",
            "Epoch 43/50\n",
            "16/16 - 0s - loss: 940.6831 - val_loss: 823.5269 - 66ms/epoch - 4ms/step\n",
            "Epoch 44/50\n",
            "16/16 - 0s - loss: 918.0942 - val_loss: 803.1627 - 58ms/epoch - 4ms/step\n",
            "Epoch 45/50\n",
            "16/16 - 0s - loss: 896.2151 - val_loss: 782.6341 - 65ms/epoch - 4ms/step\n",
            "Epoch 46/50\n",
            "16/16 - 0s - loss: 874.1084 - val_loss: 762.5532 - 65ms/epoch - 4ms/step\n",
            "Epoch 47/50\n",
            "16/16 - 0s - loss: 852.5308 - val_loss: 742.8750 - 66ms/epoch - 4ms/step\n",
            "Epoch 48/50\n",
            "16/16 - 0s - loss: 831.0910 - val_loss: 723.8035 - 51ms/epoch - 3ms/step\n",
            "Epoch 49/50\n",
            "16/16 - 0s - loss: 810.3121 - val_loss: 704.8385 - 64ms/epoch - 4ms/step\n",
            "Epoch 50/50\n",
            "16/16 - 0s - loss: 789.7648 - val_loss: 686.1760 - 70ms/epoch - 4ms/step\n"
          ]
        },
        {
          "output_type": "execute_result",
          "data": {
            "text/plain": [
              "<keras.src.callbacks.History at 0x7c6a2533c4c0>"
            ]
          },
          "metadata": {},
          "execution_count": 19
        }
      ]
    },
    {
      "cell_type": "code",
      "source": [
        "y_pred = model_B.predict(X_test)\n",
        "\n",
        "mean_squared_error(y_test, y_pred)"
      ],
      "metadata": {
        "colab": {
          "base_uri": "https://localhost:8080/"
        },
        "id": "O0vffL1LWkLM",
        "outputId": "02db311b-0daa-478a-dca8-e8241eaeef2e"
      },
      "execution_count": 21,
      "outputs": [
        {
          "output_type": "stream",
          "name": "stdout",
          "text": [
            "10/10 [==============================] - 0s 2ms/step\n"
          ]
        },
        {
          "output_type": "execute_result",
          "data": {
            "text/plain": [
              "846.4891561338202"
            ]
          },
          "metadata": {},
          "execution_count": 21
        }
      ]
    },
    {
      "cell_type": "code",
      "source": [
        "model_B = regression_model()\n",
        "\n",
        "mse_list_norm = []\n",
        "\n",
        "for i in range(50):\n",
        "    print('Computing {}th iteration'.format(i+1))\n",
        "    mse_list_norm.append(get_mse(model_B))\n",
        "\n",
        "mse_list_norm[:10]"
      ],
      "metadata": {
        "colab": {
          "base_uri": "https://localhost:8080/"
        },
        "id": "u6b8Rj-iWpsT",
        "outputId": "bec785d9-4afd-48ef-96b5-7598b41ef2ff"
      },
      "execution_count": 22,
      "outputs": [
        {
          "output_type": "stream",
          "name": "stdout",
          "text": [
            "Computing 1th iteration\n",
            "10/10 [==============================] - 0s 2ms/step\n",
            "Computing 2th iteration\n",
            "10/10 [==============================] - 0s 1ms/step\n",
            "Computing 3th iteration\n",
            "10/10 [==============================] - 0s 2ms/step\n",
            "Computing 4th iteration\n",
            "10/10 [==============================] - 0s 2ms/step\n",
            "Computing 5th iteration\n",
            "10/10 [==============================] - 0s 2ms/step\n",
            "Computing 6th iteration\n",
            "10/10 [==============================] - 0s 2ms/step\n",
            "Computing 7th iteration\n",
            "10/10 [==============================] - 0s 4ms/step\n",
            "Computing 8th iteration\n",
            "10/10 [==============================] - 0s 2ms/step\n",
            "Computing 9th iteration\n",
            "10/10 [==============================] - 0s 2ms/step\n",
            "Computing 10th iteration\n",
            "10/10 [==============================] - 0s 2ms/step\n",
            "Computing 11th iteration\n",
            "10/10 [==============================] - 0s 2ms/step\n",
            "Computing 12th iteration\n",
            "10/10 [==============================] - 0s 2ms/step\n",
            "Computing 13th iteration\n",
            "10/10 [==============================] - 0s 3ms/step\n",
            "Computing 14th iteration\n",
            "10/10 [==============================] - 0s 2ms/step\n",
            "Computing 15th iteration\n",
            "10/10 [==============================] - 0s 2ms/step\n",
            "Computing 16th iteration\n",
            "10/10 [==============================] - 0s 2ms/step\n",
            "Computing 17th iteration\n",
            "10/10 [==============================] - 0s 2ms/step\n",
            "Computing 18th iteration\n",
            "10/10 [==============================] - 0s 2ms/step\n",
            "Computing 19th iteration\n",
            "10/10 [==============================] - 0s 1ms/step\n",
            "Computing 20th iteration\n",
            "10/10 [==============================] - 0s 1ms/step\n",
            "Computing 21th iteration\n",
            "10/10 [==============================] - 0s 3ms/step\n",
            "Computing 22th iteration\n",
            "10/10 [==============================] - 0s 2ms/step\n",
            "Computing 23th iteration\n",
            "10/10 [==============================] - 0s 2ms/step\n",
            "Computing 24th iteration\n",
            "10/10 [==============================] - 0s 2ms/step\n",
            "Computing 25th iteration\n",
            "10/10 [==============================] - 0s 1ms/step\n",
            "Computing 26th iteration\n",
            "10/10 [==============================] - 0s 1ms/step\n",
            "Computing 27th iteration\n",
            "10/10 [==============================] - 0s 2ms/step\n",
            "Computing 28th iteration\n",
            "10/10 [==============================] - 0s 1ms/step\n",
            "Computing 29th iteration\n",
            "10/10 [==============================] - 0s 2ms/step\n",
            "Computing 30th iteration\n",
            "10/10 [==============================] - 0s 2ms/step\n",
            "Computing 31th iteration\n",
            "10/10 [==============================] - 0s 2ms/step\n",
            "Computing 32th iteration\n",
            "10/10 [==============================] - 0s 2ms/step\n",
            "Computing 33th iteration\n",
            "10/10 [==============================] - 0s 2ms/step\n",
            "Computing 34th iteration\n",
            "10/10 [==============================] - 0s 2ms/step\n",
            "Computing 35th iteration\n",
            "10/10 [==============================] - 0s 2ms/step\n",
            "Computing 36th iteration\n",
            "10/10 [==============================] - 0s 2ms/step\n",
            "Computing 37th iteration\n",
            "10/10 [==============================] - 0s 2ms/step\n",
            "Computing 38th iteration\n",
            "10/10 [==============================] - 0s 2ms/step\n",
            "Computing 39th iteration\n",
            "10/10 [==============================] - 0s 2ms/step\n",
            "Computing 40th iteration\n",
            "10/10 [==============================] - 0s 2ms/step\n",
            "Computing 41th iteration\n",
            "10/10 [==============================] - 0s 2ms/step\n",
            "Computing 42th iteration\n",
            "10/10 [==============================] - 0s 2ms/step\n",
            "Computing 43th iteration\n",
            "10/10 [==============================] - 0s 2ms/step\n",
            "Computing 44th iteration\n",
            "10/10 [==============================] - 0s 2ms/step\n",
            "Computing 45th iteration\n",
            "10/10 [==============================] - 0s 2ms/step\n",
            "Computing 46th iteration\n",
            "10/10 [==============================] - 0s 2ms/step\n",
            "Computing 47th iteration\n",
            "10/10 [==============================] - 0s 1ms/step\n",
            "Computing 48th iteration\n",
            "10/10 [==============================] - 0s 2ms/step\n",
            "Computing 49th iteration\n",
            "10/10 [==============================] - 0s 2ms/step\n",
            "Computing 50th iteration\n",
            "10/10 [==============================] - 0s 2ms/step\n"
          ]
        },
        {
          "output_type": "execute_result",
          "data": {
            "text/plain": [
              "[142.60206401185633,\n",
              " 104.84310004639758,\n",
              " 120.0338317222292,\n",
              " 138.6570189363374,\n",
              " 110.54153184206203,\n",
              " 123.31193777869082,\n",
              " 110.23169259559461,\n",
              " 115.11313012212091,\n",
              " 113.92348451747526,\n",
              " 112.82328893762117]"
            ]
          },
          "metadata": {},
          "execution_count": 22
        }
      ]
    },
    {
      "cell_type": "code",
      "source": [
        "mean_mse_norm = np.mean(mse_list_norm)\n",
        "print('Mean MSE (normalized data): ', mean_mse_norm)"
      ],
      "metadata": {
        "colab": {
          "base_uri": "https://localhost:8080/"
        },
        "id": "VJ3jnY1eWw6c",
        "outputId": "1b6fcfa1-8408-4a74-b3a8-7d9d0fdaeb0a"
      },
      "execution_count": 23,
      "outputs": [
        {
          "output_type": "stream",
          "name": "stdout",
          "text": [
            "Mean MSE (normalized data):  110.08911473772646\n"
          ]
        }
      ]
    },
    {
      "cell_type": "code",
      "source": [
        "sd_mse_norm = np.std(mse_list_norm)\n",
        "print('Standard deviation of MSE (normalized data): ', sd_mse_norm)"
      ],
      "metadata": {
        "colab": {
          "base_uri": "https://localhost:8080/"
        },
        "id": "7enVNJoOW2Pn",
        "outputId": "a20bfe25-4a68-41bd-d72b-f6e5423b77d3"
      },
      "execution_count": 24,
      "outputs": [
        {
          "output_type": "stream",
          "name": "stdout",
          "text": [
            "Standard deviation of MSE (normalized data):  13.295498066660782\n"
          ]
        }
      ]
    },
    {
      "cell_type": "code",
      "source": [],
      "metadata": {
        "id": "Ntvlf0gHW9kZ"
      },
      "execution_count": 24,
      "outputs": []
    },
    {
      "cell_type": "markdown",
      "source": [
        "# C. Increate the number of epochs (5 marks)"
      ],
      "metadata": {
        "id": "iBA-IJXVW-CC"
      }
    },
    {
      "cell_type": "code",
      "source": [
        "model_C = regression_model()"
      ],
      "metadata": {
        "id": "vePHuVc_W_rw"
      },
      "execution_count": 25,
      "outputs": []
    },
    {
      "cell_type": "code",
      "source": [
        "from sklearn.model_selection import train_test_split\n",
        "X_train, X_test, y_train, y_test = train_test_split(predictors_norm, target, test_size=0.3)\n",
        "\n",
        "y_test.head()"
      ],
      "metadata": {
        "colab": {
          "base_uri": "https://localhost:8080/"
        },
        "id": "17FYB98QXFNM",
        "outputId": "e44b55f3-3d71-476a-fbb3-3221ce390499"
      },
      "execution_count": 26,
      "outputs": [
        {
          "output_type": "execute_result",
          "data": {
            "text/plain": [
              "146    64.30\n",
              "691     6.81\n",
              "70     34.40\n",
              "715    39.66\n",
              "680    17.28\n",
              "Name: Strength, dtype: float64"
            ]
          },
          "metadata": {},
          "execution_count": 26
        }
      ]
    },
    {
      "cell_type": "code",
      "source": [
        "model_C.fit(X_train, y_train, validation_split=0.3, epochs=100, verbose=2)"
      ],
      "metadata": {
        "colab": {
          "base_uri": "https://localhost:8080/"
        },
        "id": "pistGw3rXH4p",
        "outputId": "1c0e253c-327e-41dc-a010-84e4c9b23056"
      },
      "execution_count": 27,
      "outputs": [
        {
          "output_type": "stream",
          "name": "stdout",
          "text": [
            "Epoch 1/100\n",
            "16/16 - 1s - loss: 1513.1899 - val_loss: 1512.1356 - 653ms/epoch - 41ms/step\n",
            "Epoch 2/100\n",
            "16/16 - 0s - loss: 1502.0637 - val_loss: 1500.5568 - 58ms/epoch - 4ms/step\n",
            "Epoch 3/100\n",
            "16/16 - 0s - loss: 1491.3899 - val_loss: 1489.2106 - 55ms/epoch - 3ms/step\n",
            "Epoch 4/100\n",
            "16/16 - 0s - loss: 1481.1272 - val_loss: 1478.0157 - 68ms/epoch - 4ms/step\n",
            "Epoch 5/100\n",
            "16/16 - 0s - loss: 1470.8679 - val_loss: 1467.2324 - 68ms/epoch - 4ms/step\n",
            "Epoch 6/100\n",
            "16/16 - 0s - loss: 1460.7145 - val_loss: 1456.6360 - 65ms/epoch - 4ms/step\n",
            "Epoch 7/100\n",
            "16/16 - 0s - loss: 1450.7755 - val_loss: 1445.7933 - 52ms/epoch - 3ms/step\n",
            "Epoch 8/100\n",
            "16/16 - 0s - loss: 1440.6832 - val_loss: 1434.8699 - 66ms/epoch - 4ms/step\n",
            "Epoch 9/100\n",
            "16/16 - 0s - loss: 1430.5082 - val_loss: 1424.0061 - 55ms/epoch - 3ms/step\n",
            "Epoch 10/100\n",
            "16/16 - 0s - loss: 1420.2012 - val_loss: 1413.2014 - 57ms/epoch - 4ms/step\n",
            "Epoch 11/100\n",
            "16/16 - 0s - loss: 1409.9028 - val_loss: 1402.2054 - 59ms/epoch - 4ms/step\n",
            "Epoch 12/100\n",
            "16/16 - 0s - loss: 1399.5074 - val_loss: 1391.0624 - 64ms/epoch - 4ms/step\n",
            "Epoch 13/100\n",
            "16/16 - 0s - loss: 1388.7920 - val_loss: 1379.7654 - 65ms/epoch - 4ms/step\n",
            "Epoch 14/100\n",
            "16/16 - 0s - loss: 1377.9353 - val_loss: 1368.2307 - 64ms/epoch - 4ms/step\n",
            "Epoch 15/100\n",
            "16/16 - 0s - loss: 1366.8969 - val_loss: 1356.5239 - 54ms/epoch - 3ms/step\n",
            "Epoch 16/100\n",
            "16/16 - 0s - loss: 1355.7441 - val_loss: 1344.4717 - 54ms/epoch - 3ms/step\n",
            "Epoch 17/100\n",
            "16/16 - 0s - loss: 1344.3483 - val_loss: 1332.2341 - 68ms/epoch - 4ms/step\n",
            "Epoch 18/100\n",
            "16/16 - 0s - loss: 1332.6643 - val_loss: 1319.7343 - 67ms/epoch - 4ms/step\n",
            "Epoch 19/100\n",
            "16/16 - 0s - loss: 1320.6349 - val_loss: 1307.1843 - 60ms/epoch - 4ms/step\n",
            "Epoch 20/100\n",
            "16/16 - 0s - loss: 1308.5889 - val_loss: 1294.1349 - 55ms/epoch - 3ms/step\n",
            "Epoch 21/100\n",
            "16/16 - 0s - loss: 1296.1425 - val_loss: 1280.8152 - 66ms/epoch - 4ms/step\n",
            "Epoch 22/100\n",
            "16/16 - 0s - loss: 1283.3855 - val_loss: 1267.0647 - 66ms/epoch - 4ms/step\n",
            "Epoch 23/100\n",
            "16/16 - 0s - loss: 1270.4147 - val_loss: 1253.0743 - 64ms/epoch - 4ms/step\n",
            "Epoch 24/100\n",
            "16/16 - 0s - loss: 1256.9352 - val_loss: 1239.1321 - 70ms/epoch - 4ms/step\n",
            "Epoch 25/100\n",
            "16/16 - 0s - loss: 1243.4930 - val_loss: 1224.7452 - 73ms/epoch - 5ms/step\n",
            "Epoch 26/100\n",
            "16/16 - 0s - loss: 1229.6931 - val_loss: 1210.3467 - 55ms/epoch - 3ms/step\n",
            "Epoch 27/100\n",
            "16/16 - 0s - loss: 1216.1204 - val_loss: 1194.8856 - 53ms/epoch - 3ms/step\n",
            "Epoch 28/100\n",
            "16/16 - 0s - loss: 1201.5133 - val_loss: 1179.7795 - 65ms/epoch - 4ms/step\n",
            "Epoch 29/100\n",
            "16/16 - 0s - loss: 1187.0703 - val_loss: 1164.3748 - 65ms/epoch - 4ms/step\n",
            "Epoch 30/100\n",
            "16/16 - 0s - loss: 1172.3914 - val_loss: 1148.7306 - 54ms/epoch - 3ms/step\n",
            "Epoch 31/100\n",
            "16/16 - 0s - loss: 1157.6011 - val_loss: 1132.5251 - 67ms/epoch - 4ms/step\n",
            "Epoch 32/100\n",
            "16/16 - 0s - loss: 1142.4183 - val_loss: 1116.4109 - 68ms/epoch - 4ms/step\n",
            "Epoch 33/100\n",
            "16/16 - 0s - loss: 1127.1205 - val_loss: 1099.9143 - 60ms/epoch - 4ms/step\n",
            "Epoch 34/100\n",
            "16/16 - 0s - loss: 1111.6887 - val_loss: 1083.2478 - 53ms/epoch - 3ms/step\n",
            "Epoch 35/100\n",
            "16/16 - 0s - loss: 1095.8893 - val_loss: 1066.7480 - 65ms/epoch - 4ms/step\n",
            "Epoch 36/100\n",
            "16/16 - 0s - loss: 1080.4021 - val_loss: 1049.6169 - 70ms/epoch - 4ms/step\n",
            "Epoch 37/100\n",
            "16/16 - 0s - loss: 1064.3656 - val_loss: 1032.6173 - 69ms/epoch - 4ms/step\n",
            "Epoch 38/100\n",
            "16/16 - 0s - loss: 1048.3375 - val_loss: 1015.6603 - 65ms/epoch - 4ms/step\n",
            "Epoch 39/100\n",
            "16/16 - 0s - loss: 1032.3811 - val_loss: 998.3646 - 66ms/epoch - 4ms/step\n",
            "Epoch 40/100\n",
            "16/16 - 0s - loss: 1016.0804 - val_loss: 981.2441 - 65ms/epoch - 4ms/step\n",
            "Epoch 41/100\n",
            "16/16 - 0s - loss: 999.9393 - val_loss: 963.6514 - 68ms/epoch - 4ms/step\n",
            "Epoch 42/100\n",
            "16/16 - 0s - loss: 983.4420 - val_loss: 946.4749 - 67ms/epoch - 4ms/step\n",
            "Epoch 43/100\n",
            "16/16 - 0s - loss: 967.0218 - val_loss: 929.2934 - 54ms/epoch - 3ms/step\n",
            "Epoch 44/100\n",
            "16/16 - 0s - loss: 950.9657 - val_loss: 911.5745 - 75ms/epoch - 5ms/step\n",
            "Epoch 45/100\n",
            "16/16 - 0s - loss: 934.6591 - val_loss: 893.9320 - 58ms/epoch - 4ms/step\n",
            "Epoch 46/100\n",
            "16/16 - 0s - loss: 918.1917 - val_loss: 876.5844 - 56ms/epoch - 4ms/step\n",
            "Epoch 47/100\n",
            "16/16 - 0s - loss: 901.8697 - val_loss: 859.5586 - 66ms/epoch - 4ms/step\n",
            "Epoch 48/100\n",
            "16/16 - 0s - loss: 885.8188 - val_loss: 842.3274 - 62ms/epoch - 4ms/step\n",
            "Epoch 49/100\n",
            "16/16 - 0s - loss: 869.5014 - val_loss: 825.4891 - 54ms/epoch - 3ms/step\n",
            "Epoch 50/100\n",
            "16/16 - 0s - loss: 853.8838 - val_loss: 808.2853 - 54ms/epoch - 3ms/step\n",
            "Epoch 51/100\n",
            "16/16 - 0s - loss: 837.6108 - val_loss: 791.7300 - 68ms/epoch - 4ms/step\n",
            "Epoch 52/100\n",
            "16/16 - 0s - loss: 822.1207 - val_loss: 774.8983 - 65ms/epoch - 4ms/step\n",
            "Epoch 53/100\n",
            "16/16 - 0s - loss: 806.3194 - val_loss: 758.4779 - 53ms/epoch - 3ms/step\n",
            "Epoch 54/100\n",
            "16/16 - 0s - loss: 790.9214 - val_loss: 742.0356 - 68ms/epoch - 4ms/step\n",
            "Epoch 55/100\n",
            "16/16 - 0s - loss: 775.6091 - val_loss: 725.9031 - 58ms/epoch - 4ms/step\n",
            "Epoch 56/100\n",
            "16/16 - 0s - loss: 760.3398 - val_loss: 710.1345 - 56ms/epoch - 4ms/step\n",
            "Epoch 57/100\n",
            "16/16 - 0s - loss: 745.5441 - val_loss: 694.3090 - 63ms/epoch - 4ms/step\n",
            "Epoch 58/100\n",
            "16/16 - 0s - loss: 730.5358 - val_loss: 678.7761 - 56ms/epoch - 4ms/step\n",
            "Epoch 59/100\n",
            "16/16 - 0s - loss: 715.9426 - val_loss: 663.4310 - 67ms/epoch - 4ms/step\n",
            "Epoch 60/100\n",
            "16/16 - 0s - loss: 701.4219 - val_loss: 648.1568 - 67ms/epoch - 4ms/step\n",
            "Epoch 61/100\n",
            "16/16 - 0s - loss: 687.1361 - val_loss: 633.0034 - 65ms/epoch - 4ms/step\n",
            "Epoch 62/100\n",
            "16/16 - 0s - loss: 672.9417 - val_loss: 617.9254 - 53ms/epoch - 3ms/step\n",
            "Epoch 63/100\n",
            "16/16 - 0s - loss: 658.6656 - val_loss: 603.1902 - 52ms/epoch - 3ms/step\n",
            "Epoch 64/100\n",
            "16/16 - 0s - loss: 644.6754 - val_loss: 588.5590 - 63ms/epoch - 4ms/step\n",
            "Epoch 65/100\n",
            "16/16 - 0s - loss: 630.7750 - val_loss: 574.2742 - 56ms/epoch - 3ms/step\n",
            "Epoch 66/100\n",
            "16/16 - 0s - loss: 617.0709 - val_loss: 559.7869 - 54ms/epoch - 3ms/step\n",
            "Epoch 67/100\n",
            "16/16 - 0s - loss: 603.2219 - val_loss: 545.6699 - 56ms/epoch - 4ms/step\n",
            "Epoch 68/100\n",
            "16/16 - 0s - loss: 589.5840 - val_loss: 531.8167 - 60ms/epoch - 4ms/step\n",
            "Epoch 69/100\n",
            "16/16 - 0s - loss: 576.0625 - val_loss: 517.7661 - 64ms/epoch - 4ms/step\n",
            "Epoch 70/100\n",
            "16/16 - 0s - loss: 562.3738 - val_loss: 503.8481 - 56ms/epoch - 3ms/step\n",
            "Epoch 71/100\n",
            "16/16 - 0s - loss: 548.7274 - val_loss: 489.7745 - 53ms/epoch - 3ms/step\n",
            "Epoch 72/100\n",
            "16/16 - 0s - loss: 535.0348 - val_loss: 475.6051 - 51ms/epoch - 3ms/step\n",
            "Epoch 73/100\n",
            "16/16 - 0s - loss: 520.9986 - val_loss: 461.8461 - 67ms/epoch - 4ms/step\n",
            "Epoch 74/100\n",
            "16/16 - 0s - loss: 507.3933 - val_loss: 447.9733 - 54ms/epoch - 3ms/step\n",
            "Epoch 75/100\n",
            "16/16 - 0s - loss: 493.7163 - val_loss: 434.1710 - 66ms/epoch - 4ms/step\n",
            "Epoch 76/100\n",
            "16/16 - 0s - loss: 479.6523 - val_loss: 420.9133 - 64ms/epoch - 4ms/step\n",
            "Epoch 77/100\n",
            "16/16 - 0s - loss: 466.2869 - val_loss: 407.1124 - 52ms/epoch - 3ms/step\n",
            "Epoch 78/100\n",
            "16/16 - 0s - loss: 452.5002 - val_loss: 393.9435 - 54ms/epoch - 3ms/step\n",
            "Epoch 79/100\n",
            "16/16 - 0s - loss: 439.0332 - val_loss: 381.0495 - 62ms/epoch - 4ms/step\n",
            "Epoch 80/100\n",
            "16/16 - 0s - loss: 425.8694 - val_loss: 368.2181 - 68ms/epoch - 4ms/step\n",
            "Epoch 81/100\n",
            "16/16 - 0s - loss: 412.9007 - val_loss: 355.7554 - 67ms/epoch - 4ms/step\n",
            "Epoch 82/100\n",
            "16/16 - 0s - loss: 400.1179 - val_loss: 343.5263 - 53ms/epoch - 3ms/step\n",
            "Epoch 83/100\n",
            "16/16 - 0s - loss: 387.7107 - val_loss: 332.0357 - 54ms/epoch - 3ms/step\n",
            "Epoch 84/100\n",
            "16/16 - 0s - loss: 375.8196 - val_loss: 320.6362 - 66ms/epoch - 4ms/step\n",
            "Epoch 85/100\n",
            "16/16 - 0s - loss: 364.3738 - val_loss: 309.5478 - 61ms/epoch - 4ms/step\n",
            "Epoch 86/100\n",
            "16/16 - 0s - loss: 353.1253 - val_loss: 299.2068 - 53ms/epoch - 3ms/step\n",
            "Epoch 87/100\n",
            "16/16 - 0s - loss: 342.3869 - val_loss: 288.9335 - 53ms/epoch - 3ms/step\n",
            "Epoch 88/100\n",
            "16/16 - 0s - loss: 331.6930 - val_loss: 279.5783 - 54ms/epoch - 3ms/step\n",
            "Epoch 89/100\n",
            "16/16 - 0s - loss: 321.9619 - val_loss: 270.3814 - 65ms/epoch - 4ms/step\n",
            "Epoch 90/100\n",
            "16/16 - 0s - loss: 312.4328 - val_loss: 261.7693 - 54ms/epoch - 3ms/step\n",
            "Epoch 91/100\n",
            "16/16 - 0s - loss: 303.6198 - val_loss: 253.0031 - 54ms/epoch - 3ms/step\n",
            "Epoch 92/100\n",
            "16/16 - 0s - loss: 294.6415 - val_loss: 245.1018 - 70ms/epoch - 4ms/step\n",
            "Epoch 93/100\n",
            "16/16 - 0s - loss: 286.3500 - val_loss: 237.7768 - 56ms/epoch - 3ms/step\n",
            "Epoch 94/100\n",
            "16/16 - 0s - loss: 278.4791 - val_loss: 230.8073 - 58ms/epoch - 4ms/step\n",
            "Epoch 95/100\n",
            "16/16 - 0s - loss: 271.1701 - val_loss: 224.0144 - 53ms/epoch - 3ms/step\n",
            "Epoch 96/100\n",
            "16/16 - 0s - loss: 263.9123 - val_loss: 217.8994 - 56ms/epoch - 4ms/step\n",
            "Epoch 97/100\n",
            "16/16 - 0s - loss: 257.2914 - val_loss: 211.9635 - 65ms/epoch - 4ms/step\n",
            "Epoch 98/100\n",
            "16/16 - 0s - loss: 250.9401 - val_loss: 206.4598 - 68ms/epoch - 4ms/step\n",
            "Epoch 99/100\n",
            "16/16 - 0s - loss: 244.8241 - val_loss: 201.3496 - 55ms/epoch - 3ms/step\n",
            "Epoch 100/100\n",
            "16/16 - 0s - loss: 239.2352 - val_loss: 196.4265 - 52ms/epoch - 3ms/step\n"
          ]
        },
        {
          "output_type": "execute_result",
          "data": {
            "text/plain": [
              "<keras.src.callbacks.History at 0x7c6a25c2c400>"
            ]
          },
          "metadata": {},
          "execution_count": 27
        }
      ]
    },
    {
      "cell_type": "code",
      "source": [
        "model_C = regression_model()\n",
        "\n",
        "mse_list_norm_100 = []\n",
        "\n",
        "for i in range(100):\n",
        "    print('Computing {}th iteration'.format(i+1))\n",
        "    mse_list_norm_100.append(get_mse(model_C))\n",
        "\n",
        "mse_list_norm_100[:10]"
      ],
      "metadata": {
        "colab": {
          "base_uri": "https://localhost:8080/"
        },
        "id": "HjtzNaZIXKjO",
        "outputId": "d42af4d8-f218-4faa-d89f-adacdaf26943"
      },
      "execution_count": 28,
      "outputs": [
        {
          "output_type": "stream",
          "name": "stdout",
          "text": [
            "Computing 1th iteration\n",
            "10/10 [==============================] - 0s 2ms/step\n",
            "Computing 2th iteration\n",
            "10/10 [==============================] - 0s 2ms/step\n",
            "Computing 3th iteration\n",
            "10/10 [==============================] - 0s 2ms/step\n",
            "Computing 4th iteration\n",
            "10/10 [==============================] - 0s 2ms/step\n",
            "Computing 5th iteration\n",
            "10/10 [==============================] - 0s 1ms/step\n",
            "Computing 6th iteration\n",
            "10/10 [==============================] - 0s 2ms/step\n",
            "Computing 7th iteration\n",
            "10/10 [==============================] - 0s 2ms/step\n",
            "Computing 8th iteration\n",
            "10/10 [==============================] - 0s 2ms/step\n",
            "Computing 9th iteration\n",
            "10/10 [==============================] - 0s 2ms/step\n",
            "Computing 10th iteration\n",
            "10/10 [==============================] - 0s 2ms/step\n",
            "Computing 11th iteration\n",
            "10/10 [==============================] - 0s 2ms/step\n",
            "Computing 12th iteration\n",
            "10/10 [==============================] - 0s 2ms/step\n",
            "Computing 13th iteration\n",
            "10/10 [==============================] - 0s 2ms/step\n",
            "Computing 14th iteration\n",
            "10/10 [==============================] - 0s 1ms/step\n",
            "Computing 15th iteration\n",
            "10/10 [==============================] - 0s 2ms/step\n",
            "Computing 16th iteration\n",
            "10/10 [==============================] - 0s 2ms/step\n",
            "Computing 17th iteration\n",
            "10/10 [==============================] - 0s 2ms/step\n",
            "Computing 18th iteration\n",
            "10/10 [==============================] - 0s 2ms/step\n",
            "Computing 19th iteration\n",
            "10/10 [==============================] - 0s 2ms/step\n",
            "Computing 20th iteration\n",
            "10/10 [==============================] - 0s 2ms/step\n",
            "Computing 21th iteration\n",
            "10/10 [==============================] - 0s 2ms/step\n",
            "Computing 22th iteration\n",
            "10/10 [==============================] - 0s 2ms/step\n",
            "Computing 23th iteration\n",
            "10/10 [==============================] - 0s 2ms/step\n",
            "Computing 24th iteration\n",
            "10/10 [==============================] - 0s 2ms/step\n",
            "Computing 25th iteration\n",
            "10/10 [==============================] - 0s 2ms/step\n",
            "Computing 26th iteration\n",
            "10/10 [==============================] - 0s 2ms/step\n",
            "Computing 27th iteration\n",
            "10/10 [==============================] - 0s 2ms/step\n",
            "Computing 28th iteration\n",
            "10/10 [==============================] - 0s 2ms/step\n",
            "Computing 29th iteration\n",
            "10/10 [==============================] - 0s 2ms/step\n",
            "Computing 30th iteration\n",
            "10/10 [==============================] - 0s 2ms/step\n",
            "Computing 31th iteration\n",
            "10/10 [==============================] - 0s 2ms/step\n",
            "Computing 32th iteration\n",
            "10/10 [==============================] - 0s 2ms/step\n",
            "Computing 33th iteration\n",
            "10/10 [==============================] - 0s 2ms/step\n",
            "Computing 34th iteration\n",
            "10/10 [==============================] - 0s 2ms/step\n",
            "Computing 35th iteration\n",
            "10/10 [==============================] - 0s 2ms/step\n",
            "Computing 36th iteration\n",
            "10/10 [==============================] - 0s 2ms/step\n",
            "Computing 37th iteration\n",
            "10/10 [==============================] - 0s 1ms/step\n",
            "Computing 38th iteration\n",
            "10/10 [==============================] - 0s 2ms/step\n",
            "Computing 39th iteration\n",
            "10/10 [==============================] - 0s 2ms/step\n",
            "Computing 40th iteration\n",
            "10/10 [==============================] - 0s 2ms/step\n",
            "Computing 41th iteration\n",
            "10/10 [==============================] - 0s 2ms/step\n",
            "Computing 42th iteration\n",
            "10/10 [==============================] - 0s 2ms/step\n",
            "Computing 43th iteration\n",
            "10/10 [==============================] - 0s 2ms/step\n",
            "Computing 44th iteration\n",
            "10/10 [==============================] - 0s 1ms/step\n",
            "Computing 45th iteration\n",
            "10/10 [==============================] - 0s 1ms/step\n",
            "Computing 46th iteration\n",
            "10/10 [==============================] - 0s 2ms/step\n",
            "Computing 47th iteration\n",
            "10/10 [==============================] - 0s 2ms/step\n",
            "Computing 48th iteration\n",
            "10/10 [==============================] - 0s 2ms/step\n",
            "Computing 49th iteration\n",
            "10/10 [==============================] - 0s 2ms/step\n",
            "Computing 50th iteration\n",
            "10/10 [==============================] - 0s 2ms/step\n",
            "Computing 51th iteration\n",
            "10/10 [==============================] - 0s 2ms/step\n",
            "Computing 52th iteration\n",
            "10/10 [==============================] - 0s 3ms/step\n",
            "Computing 53th iteration\n",
            "10/10 [==============================] - 0s 2ms/step\n",
            "Computing 54th iteration\n",
            "10/10 [==============================] - 0s 2ms/step\n",
            "Computing 55th iteration\n",
            "10/10 [==============================] - 0s 2ms/step\n",
            "Computing 56th iteration\n",
            "10/10 [==============================] - 0s 2ms/step\n",
            "Computing 57th iteration\n",
            "10/10 [==============================] - 0s 2ms/step\n",
            "Computing 58th iteration\n",
            "10/10 [==============================] - 0s 2ms/step\n",
            "Computing 59th iteration\n",
            "10/10 [==============================] - 0s 2ms/step\n",
            "Computing 60th iteration\n",
            "10/10 [==============================] - 0s 2ms/step\n",
            "Computing 61th iteration\n",
            "10/10 [==============================] - 0s 2ms/step\n",
            "Computing 62th iteration\n",
            "10/10 [==============================] - 0s 2ms/step\n",
            "Computing 63th iteration\n",
            "10/10 [==============================] - 0s 2ms/step\n",
            "Computing 64th iteration\n",
            "10/10 [==============================] - 0s 2ms/step\n",
            "Computing 65th iteration\n",
            "10/10 [==============================] - 0s 2ms/step\n",
            "Computing 66th iteration\n",
            "10/10 [==============================] - 0s 2ms/step\n",
            "Computing 67th iteration\n",
            "10/10 [==============================] - 0s 2ms/step\n",
            "Computing 68th iteration\n",
            "10/10 [==============================] - 0s 2ms/step\n",
            "Computing 69th iteration\n",
            "10/10 [==============================] - 0s 2ms/step\n",
            "Computing 70th iteration\n",
            "10/10 [==============================] - 0s 2ms/step\n",
            "Computing 71th iteration\n",
            "10/10 [==============================] - 0s 2ms/step\n",
            "Computing 72th iteration\n",
            "10/10 [==============================] - 0s 2ms/step\n",
            "Computing 73th iteration\n",
            "10/10 [==============================] - 0s 2ms/step\n",
            "Computing 74th iteration\n",
            "10/10 [==============================] - 0s 2ms/step\n",
            "Computing 75th iteration\n",
            "10/10 [==============================] - 0s 2ms/step\n",
            "Computing 76th iteration\n",
            "10/10 [==============================] - 0s 2ms/step\n",
            "Computing 77th iteration\n",
            "10/10 [==============================] - 0s 2ms/step\n",
            "Computing 78th iteration\n",
            "10/10 [==============================] - 0s 2ms/step\n",
            "Computing 79th iteration\n",
            "10/10 [==============================] - 0s 2ms/step\n",
            "Computing 80th iteration\n",
            "10/10 [==============================] - 0s 2ms/step\n",
            "Computing 81th iteration\n",
            "10/10 [==============================] - 0s 2ms/step\n",
            "Computing 82th iteration\n",
            "10/10 [==============================] - 0s 2ms/step\n",
            "Computing 83th iteration\n",
            "10/10 [==============================] - 0s 2ms/step\n",
            "Computing 84th iteration\n",
            "10/10 [==============================] - 0s 2ms/step\n",
            "Computing 85th iteration\n",
            "10/10 [==============================] - 0s 2ms/step\n",
            "Computing 86th iteration\n",
            "10/10 [==============================] - 0s 2ms/step\n",
            "Computing 87th iteration\n",
            "10/10 [==============================] - 0s 2ms/step\n",
            "Computing 88th iteration\n",
            "10/10 [==============================] - 0s 3ms/step\n",
            "Computing 89th iteration\n",
            "10/10 [==============================] - 0s 2ms/step\n",
            "Computing 90th iteration\n",
            "10/10 [==============================] - 0s 2ms/step\n",
            "Computing 91th iteration\n",
            "10/10 [==============================] - 0s 2ms/step\n",
            "Computing 92th iteration\n",
            "10/10 [==============================] - 0s 2ms/step\n",
            "Computing 93th iteration\n",
            "10/10 [==============================] - 0s 2ms/step\n",
            "Computing 94th iteration\n",
            "10/10 [==============================] - 0s 2ms/step\n",
            "Computing 95th iteration\n",
            "10/10 [==============================] - 0s 2ms/step\n",
            "Computing 96th iteration\n",
            "10/10 [==============================] - 0s 2ms/step\n",
            "Computing 97th iteration\n",
            "10/10 [==============================] - 0s 2ms/step\n",
            "Computing 98th iteration\n",
            "10/10 [==============================] - 0s 2ms/step\n",
            "Computing 99th iteration\n",
            "10/10 [==============================] - 0s 2ms/step\n",
            "Computing 100th iteration\n",
            "10/10 [==============================] - 0s 2ms/step\n"
          ]
        },
        {
          "output_type": "execute_result",
          "data": {
            "text/plain": [
              "[109.32133835003886,\n",
              " 75.97637996659378,\n",
              " 71.22473516395114,\n",
              " 70.98194741710077,\n",
              " 68.96135430801432,\n",
              " 67.7217623563533,\n",
              " 64.63277472241658,\n",
              " 65.98069167568575,\n",
              " 61.326192919354824,\n",
              " 62.94470850809209]"
            ]
          },
          "metadata": {},
          "execution_count": 28
        }
      ]
    },
    {
      "cell_type": "code",
      "source": [
        "mean_mse_norm_100 = np.mean(mse_list_norm_100)\n",
        "print('Mean MSE (normalized data, 100 epochs): ', mean_mse_norm_100)"
      ],
      "metadata": {
        "colab": {
          "base_uri": "https://localhost:8080/"
        },
        "id": "JXZnfpK8XS8C",
        "outputId": "96bba055-9213-4803-e662-a35d92a1ce3b"
      },
      "execution_count": 29,
      "outputs": [
        {
          "output_type": "stream",
          "name": "stdout",
          "text": [
            "Mean MSE (normalized data, 100 epochs):  59.0608081922971\n"
          ]
        }
      ]
    },
    {
      "cell_type": "code",
      "source": [
        "sd_mse_norm_100 = np.std(mse_list_norm_100)\n",
        "print('Standard deviation of MSE (normalized data, 100 epochs): ', sd_mse_norm_100)"
      ],
      "metadata": {
        "colab": {
          "base_uri": "https://localhost:8080/"
        },
        "id": "1brX2_YUXTvu",
        "outputId": "898b3151-1c16-4f0c-9f8f-d993051fc6ec"
      },
      "execution_count": 30,
      "outputs": [
        {
          "output_type": "stream",
          "name": "stdout",
          "text": [
            "Standard deviation of MSE (normalized data, 100 epochs):  9.056148677997763\n"
          ]
        }
      ]
    },
    {
      "cell_type": "code",
      "source": [],
      "metadata": {
        "id": "pLD7SjhfXZot"
      },
      "execution_count": 30,
      "outputs": []
    },
    {
      "cell_type": "markdown",
      "source": [
        "# D. Increase the number of hidden layers (5 marks)"
      ],
      "metadata": {
        "id": "voF7ywRxXalD"
      }
    },
    {
      "cell_type": "code",
      "source": [
        "def regression_model_D():\n",
        "    # create model\n",
        "    model = Sequential()\n",
        "    model.add(Dense(10, activation='relu', input_shape=(n_cols,)))\n",
        "    model.add(Dense(10, activation='relu'))\n",
        "    model.add(Dense(10, activation='relu'))\n",
        "    model.add(Dense(1))\n",
        "\n",
        "    # compile model\n",
        "    model.compile(optimizer='adam', loss='mean_squared_error')\n",
        "    return model\n",
        "\n",
        "model_D = regression_model_D()"
      ],
      "metadata": {
        "id": "Jd_HwujrXcTj"
      },
      "execution_count": 31,
      "outputs": []
    },
    {
      "cell_type": "code",
      "source": [
        "from sklearn.model_selection import train_test_split\n",
        "X_train, X_test, y_train, y_test = train_test_split(predictors_norm, target, test_size=0.3)\n",
        "\n",
        "y_test.head()"
      ],
      "metadata": {
        "colab": {
          "base_uri": "https://localhost:8080/"
        },
        "id": "xbAA0FbQXfdK",
        "outputId": "6af5497f-124f-4160-9289-54e17f94a12b"
      },
      "execution_count": 32,
      "outputs": [
        {
          "output_type": "execute_result",
          "data": {
            "text/plain": [
              "654    24.29\n",
              "328    60.95\n",
              "253    42.35\n",
              "791    41.05\n",
              "655    33.95\n",
              "Name: Strength, dtype: float64"
            ]
          },
          "metadata": {},
          "execution_count": 32
        }
      ]
    },
    {
      "cell_type": "code",
      "source": [
        "model_D.fit(X_train, y_train, validation_split=0.3, epochs=50, verbose=2)"
      ],
      "metadata": {
        "colab": {
          "base_uri": "https://localhost:8080/"
        },
        "id": "idh-klNAXjpF",
        "outputId": "3166837c-7d32-4bae-a0ed-a8ee802a2547"
      },
      "execution_count": 33,
      "outputs": [
        {
          "output_type": "stream",
          "name": "stdout",
          "text": [
            "Epoch 1/50\n",
            "16/16 - 1s - loss: 1625.8231 - val_loss: 1376.6293 - 934ms/epoch - 58ms/step\n",
            "Epoch 2/50\n",
            "16/16 - 0s - loss: 1619.7629 - val_loss: 1371.6604 - 69ms/epoch - 4ms/step\n",
            "Epoch 3/50\n",
            "16/16 - 0s - loss: 1614.0911 - val_loss: 1365.5155 - 66ms/epoch - 4ms/step\n",
            "Epoch 4/50\n",
            "16/16 - 0s - loss: 1606.3486 - val_loss: 1355.7742 - 71ms/epoch - 4ms/step\n",
            "Epoch 5/50\n",
            "16/16 - 0s - loss: 1593.5153 - val_loss: 1340.5013 - 59ms/epoch - 4ms/step\n",
            "Epoch 6/50\n",
            "16/16 - 0s - loss: 1573.8197 - val_loss: 1316.1792 - 71ms/epoch - 4ms/step\n",
            "Epoch 7/50\n",
            "16/16 - 0s - loss: 1543.2876 - val_loss: 1281.4320 - 67ms/epoch - 4ms/step\n",
            "Epoch 8/50\n",
            "16/16 - 0s - loss: 1502.1525 - val_loss: 1235.5273 - 59ms/epoch - 4ms/step\n",
            "Epoch 9/50\n",
            "16/16 - 0s - loss: 1446.9270 - val_loss: 1175.4344 - 74ms/epoch - 5ms/step\n",
            "Epoch 10/50\n",
            "16/16 - 0s - loss: 1373.7822 - val_loss: 1097.9240 - 55ms/epoch - 3ms/step\n",
            "Epoch 11/50\n",
            "16/16 - 0s - loss: 1281.5870 - val_loss: 1000.9443 - 62ms/epoch - 4ms/step\n",
            "Epoch 12/50\n",
            "16/16 - 0s - loss: 1165.1084 - val_loss: 885.3514 - 71ms/epoch - 4ms/step\n",
            "Epoch 13/50\n",
            "16/16 - 0s - loss: 1027.3494 - val_loss: 754.8087 - 56ms/epoch - 4ms/step\n",
            "Epoch 14/50\n",
            "16/16 - 0s - loss: 873.6141 - val_loss: 618.7549 - 55ms/epoch - 3ms/step\n",
            "Epoch 15/50\n",
            "16/16 - 0s - loss: 716.2986 - val_loss: 488.0009 - 72ms/epoch - 5ms/step\n",
            "Epoch 16/50\n",
            "16/16 - 0s - loss: 562.6010 - val_loss: 377.5052 - 71ms/epoch - 4ms/step\n",
            "Epoch 17/50\n",
            "16/16 - 0s - loss: 433.8578 - val_loss: 292.9626 - 67ms/epoch - 4ms/step\n",
            "Epoch 18/50\n",
            "16/16 - 0s - loss: 334.9656 - val_loss: 240.4803 - 65ms/epoch - 4ms/step\n",
            "Epoch 19/50\n",
            "16/16 - 0s - loss: 270.0683 - val_loss: 215.2075 - 54ms/epoch - 3ms/step\n",
            "Epoch 20/50\n",
            "16/16 - 0s - loss: 230.7649 - val_loss: 205.2902 - 54ms/epoch - 3ms/step\n",
            "Epoch 21/50\n",
            "16/16 - 0s - loss: 211.3221 - val_loss: 200.4365 - 73ms/epoch - 5ms/step\n",
            "Epoch 22/50\n",
            "16/16 - 0s - loss: 199.2786 - val_loss: 195.8029 - 61ms/epoch - 4ms/step\n",
            "Epoch 23/50\n",
            "16/16 - 0s - loss: 191.9872 - val_loss: 192.5499 - 57ms/epoch - 4ms/step\n",
            "Epoch 24/50\n",
            "16/16 - 0s - loss: 186.4777 - val_loss: 190.1315 - 66ms/epoch - 4ms/step\n",
            "Epoch 25/50\n",
            "16/16 - 0s - loss: 182.2446 - val_loss: 185.7323 - 72ms/epoch - 4ms/step\n",
            "Epoch 26/50\n",
            "16/16 - 0s - loss: 178.8059 - val_loss: 182.3217 - 71ms/epoch - 4ms/step\n",
            "Epoch 27/50\n",
            "16/16 - 0s - loss: 175.7823 - val_loss: 180.6256 - 68ms/epoch - 4ms/step\n",
            "Epoch 28/50\n",
            "16/16 - 0s - loss: 173.2069 - val_loss: 178.7307 - 55ms/epoch - 3ms/step\n",
            "Epoch 29/50\n",
            "16/16 - 0s - loss: 170.8717 - val_loss: 176.0089 - 65ms/epoch - 4ms/step\n",
            "Epoch 30/50\n",
            "16/16 - 0s - loss: 168.9373 - val_loss: 173.1016 - 60ms/epoch - 4ms/step\n",
            "Epoch 31/50\n",
            "16/16 - 0s - loss: 166.8321 - val_loss: 171.8569 - 70ms/epoch - 4ms/step\n",
            "Epoch 32/50\n",
            "16/16 - 0s - loss: 164.7066 - val_loss: 169.8072 - 64ms/epoch - 4ms/step\n",
            "Epoch 33/50\n",
            "16/16 - 0s - loss: 162.8654 - val_loss: 167.8297 - 57ms/epoch - 4ms/step\n",
            "Epoch 34/50\n",
            "16/16 - 0s - loss: 161.0335 - val_loss: 166.0270 - 67ms/epoch - 4ms/step\n",
            "Epoch 35/50\n",
            "16/16 - 0s - loss: 159.2263 - val_loss: 164.3476 - 67ms/epoch - 4ms/step\n",
            "Epoch 36/50\n",
            "16/16 - 0s - loss: 157.4492 - val_loss: 163.0169 - 72ms/epoch - 5ms/step\n",
            "Epoch 37/50\n",
            "16/16 - 0s - loss: 156.2513 - val_loss: 161.4090 - 66ms/epoch - 4ms/step\n",
            "Epoch 38/50\n",
            "16/16 - 0s - loss: 154.2689 - val_loss: 160.0746 - 71ms/epoch - 4ms/step\n",
            "Epoch 39/50\n",
            "16/16 - 0s - loss: 152.8012 - val_loss: 158.3473 - 70ms/epoch - 4ms/step\n",
            "Epoch 40/50\n",
            "16/16 - 0s - loss: 151.4358 - val_loss: 156.3853 - 68ms/epoch - 4ms/step\n",
            "Epoch 41/50\n",
            "16/16 - 0s - loss: 150.0403 - val_loss: 156.1930 - 70ms/epoch - 4ms/step\n",
            "Epoch 42/50\n",
            "16/16 - 0s - loss: 148.1344 - val_loss: 152.6109 - 55ms/epoch - 3ms/step\n",
            "Epoch 43/50\n",
            "16/16 - 0s - loss: 146.5177 - val_loss: 151.7320 - 66ms/epoch - 4ms/step\n",
            "Epoch 44/50\n",
            "16/16 - 0s - loss: 144.9127 - val_loss: 150.5704 - 76ms/epoch - 5ms/step\n",
            "Epoch 45/50\n",
            "16/16 - 0s - loss: 143.5365 - val_loss: 149.1352 - 67ms/epoch - 4ms/step\n",
            "Epoch 46/50\n",
            "16/16 - 0s - loss: 142.0821 - val_loss: 147.7336 - 67ms/epoch - 4ms/step\n",
            "Epoch 47/50\n",
            "16/16 - 0s - loss: 140.3236 - val_loss: 145.9619 - 68ms/epoch - 4ms/step\n",
            "Epoch 48/50\n",
            "16/16 - 0s - loss: 138.9655 - val_loss: 143.6014 - 77ms/epoch - 5ms/step\n",
            "Epoch 49/50\n",
            "16/16 - 0s - loss: 137.6625 - val_loss: 141.7024 - 70ms/epoch - 4ms/step\n",
            "Epoch 50/50\n",
            "16/16 - 0s - loss: 135.9509 - val_loss: 140.8240 - 66ms/epoch - 4ms/step\n"
          ]
        },
        {
          "output_type": "execute_result",
          "data": {
            "text/plain": [
              "<keras.src.callbacks.History at 0x7c6a1cab9ff0>"
            ]
          },
          "metadata": {},
          "execution_count": 33
        }
      ]
    },
    {
      "cell_type": "code",
      "source": [
        "y_pred = model_D.predict(X_test)\n",
        "\n",
        "mean_squared_error(y_test, y_pred)"
      ],
      "metadata": {
        "colab": {
          "base_uri": "https://localhost:8080/"
        },
        "id": "EvQcg0K1XnYr",
        "outputId": "401ce4fc-7806-47fe-b920-9f18ec37564a"
      },
      "execution_count": 34,
      "outputs": [
        {
          "output_type": "stream",
          "name": "stdout",
          "text": [
            "10/10 [==============================] - 0s 2ms/step\n"
          ]
        },
        {
          "output_type": "execute_result",
          "data": {
            "text/plain": [
              "138.39846917007551"
            ]
          },
          "metadata": {},
          "execution_count": 34
        }
      ]
    },
    {
      "cell_type": "code",
      "source": [
        "model_D = regression_model_D()\n",
        "\n",
        "mse_list_norm_D = []\n",
        "\n",
        "for i in range(50):\n",
        "    print('Computing {}th iteration'.format(i+1))\n",
        "    mse_list_norm_D.append(get_mse(model_D))\n",
        "\n",
        "mse_list_norm_D[:10]"
      ],
      "metadata": {
        "colab": {
          "base_uri": "https://localhost:8080/"
        },
        "id": "mRW1E2r0Xqqq",
        "outputId": "baa611f6-dfa0-47c6-e41c-1c6158248a7a"
      },
      "execution_count": 35,
      "outputs": [
        {
          "output_type": "stream",
          "name": "stdout",
          "text": [
            "Computing 1th iteration\n",
            "10/10 [==============================] - 0s 2ms/step\n",
            "Computing 2th iteration\n",
            "10/10 [==============================] - 0s 2ms/step\n",
            "Computing 3th iteration\n",
            "10/10 [==============================] - 0s 2ms/step\n",
            "Computing 4th iteration\n",
            "10/10 [==============================] - 0s 2ms/step\n",
            "Computing 5th iteration\n",
            "10/10 [==============================] - 0s 2ms/step\n",
            "Computing 6th iteration\n",
            "10/10 [==============================] - 0s 2ms/step\n",
            "Computing 7th iteration\n",
            "10/10 [==============================] - 0s 2ms/step\n",
            "Computing 8th iteration\n",
            "10/10 [==============================] - 0s 2ms/step\n",
            "Computing 9th iteration\n",
            "10/10 [==============================] - 0s 2ms/step\n",
            "Computing 10th iteration\n",
            "10/10 [==============================] - 0s 2ms/step\n",
            "Computing 11th iteration\n",
            "10/10 [==============================] - 0s 2ms/step\n",
            "Computing 12th iteration\n",
            "10/10 [==============================] - 0s 2ms/step\n",
            "Computing 13th iteration\n",
            "10/10 [==============================] - 0s 2ms/step\n",
            "Computing 14th iteration\n",
            "10/10 [==============================] - 0s 2ms/step\n",
            "Computing 15th iteration\n",
            "10/10 [==============================] - 0s 2ms/step\n",
            "Computing 16th iteration\n",
            "10/10 [==============================] - 0s 2ms/step\n",
            "Computing 17th iteration\n",
            "10/10 [==============================] - 0s 2ms/step\n",
            "Computing 18th iteration\n",
            "10/10 [==============================] - 0s 2ms/step\n",
            "Computing 19th iteration\n",
            "10/10 [==============================] - 0s 3ms/step\n",
            "Computing 20th iteration\n",
            "10/10 [==============================] - 0s 2ms/step\n",
            "Computing 21th iteration\n",
            "10/10 [==============================] - 0s 2ms/step\n",
            "Computing 22th iteration\n",
            "10/10 [==============================] - 0s 2ms/step\n",
            "Computing 23th iteration\n",
            "10/10 [==============================] - 0s 2ms/step\n",
            "Computing 24th iteration\n",
            "10/10 [==============================] - 0s 2ms/step\n",
            "Computing 25th iteration\n",
            "10/10 [==============================] - 0s 2ms/step\n",
            "Computing 26th iteration\n",
            "10/10 [==============================] - 0s 2ms/step\n",
            "Computing 27th iteration\n",
            "10/10 [==============================] - 0s 2ms/step\n",
            "Computing 28th iteration\n",
            "10/10 [==============================] - 0s 2ms/step\n",
            "Computing 29th iteration\n",
            "10/10 [==============================] - 0s 2ms/step\n",
            "Computing 30th iteration\n",
            "10/10 [==============================] - 0s 1ms/step\n",
            "Computing 31th iteration\n",
            "10/10 [==============================] - 0s 2ms/step\n",
            "Computing 32th iteration\n",
            "10/10 [==============================] - 0s 2ms/step\n",
            "Computing 33th iteration\n",
            "10/10 [==============================] - 0s 2ms/step\n",
            "Computing 34th iteration\n",
            "10/10 [==============================] - 0s 2ms/step\n",
            "Computing 35th iteration\n",
            "10/10 [==============================] - 0s 2ms/step\n",
            "Computing 36th iteration\n",
            "10/10 [==============================] - 0s 2ms/step\n",
            "Computing 37th iteration\n",
            "10/10 [==============================] - 0s 2ms/step\n",
            "Computing 38th iteration\n",
            "10/10 [==============================] - 0s 2ms/step\n",
            "Computing 39th iteration\n",
            "10/10 [==============================] - 0s 2ms/step\n",
            "Computing 40th iteration\n",
            "10/10 [==============================] - 0s 2ms/step\n",
            "Computing 41th iteration\n",
            "10/10 [==============================] - 0s 2ms/step\n",
            "Computing 42th iteration\n",
            "10/10 [==============================] - 0s 2ms/step\n",
            "Computing 43th iteration\n",
            "10/10 [==============================] - 0s 2ms/step\n",
            "Computing 44th iteration\n",
            "10/10 [==============================] - 0s 2ms/step\n",
            "Computing 45th iteration\n",
            "10/10 [==============================] - 0s 2ms/step\n",
            "Computing 46th iteration\n",
            "10/10 [==============================] - 0s 2ms/step\n",
            "Computing 47th iteration\n",
            "10/10 [==============================] - 0s 2ms/step\n",
            "Computing 48th iteration\n",
            "10/10 [==============================] - 0s 2ms/step\n",
            "Computing 49th iteration\n",
            "10/10 [==============================] - 0s 1ms/step\n",
            "Computing 50th iteration\n",
            "10/10 [==============================] - 0s 2ms/step\n"
          ]
        },
        {
          "output_type": "execute_result",
          "data": {
            "text/plain": [
              "[99.2917663739105,\n",
              " 68.01744248615621,\n",
              " 68.62046764256674,\n",
              " 50.22516386882477,\n",
              " 50.31259311158432,\n",
              " 55.516665693662375,\n",
              " 45.80550513496947,\n",
              " 47.54346567583694,\n",
              " 46.23778587027464,\n",
              " 50.288266561850264]"
            ]
          },
          "metadata": {},
          "execution_count": 35
        }
      ]
    },
    {
      "cell_type": "code",
      "source": [
        "mean_mse_norm_D = np.mean(mse_list_norm_D)\n",
        "print('Mean MSE (normalized data, 3 hidden layers): ', mean_mse_norm_D)"
      ],
      "metadata": {
        "colab": {
          "base_uri": "https://localhost:8080/"
        },
        "id": "fudKYLMDXuC_",
        "outputId": "ee88910d-1db9-4e26-97c7-ce0d63268da3"
      },
      "execution_count": 36,
      "outputs": [
        {
          "output_type": "stream",
          "name": "stdout",
          "text": [
            "Mean MSE (normalized data, 3 hidden layers):  47.3119574100548\n"
          ]
        }
      ]
    },
    {
      "cell_type": "code",
      "source": [
        "sd_mse_norm_D = np.std(mse_list_norm_D)\n",
        "print('Standard deviation of MSE (normalized data, 3 hidden layers): ', sd_mse_norm_D)"
      ],
      "metadata": {
        "colab": {
          "base_uri": "https://localhost:8080/"
        },
        "id": "YMvWXZtxXyOY",
        "outputId": "05e55f40-b8ee-4cc4-f2e2-6ed6bbabf874"
      },
      "execution_count": 37,
      "outputs": [
        {
          "output_type": "stream",
          "name": "stdout",
          "text": [
            "Standard deviation of MSE (normalized data, 3 hidden layers):  9.794145324004019\n"
          ]
        }
      ]
    },
    {
      "cell_type": "markdown",
      "source": [
        "# Stats"
      ],
      "metadata": {
        "id": "dyIEz3G3X2zt"
      }
    },
    {
      "cell_type": "code",
      "source": [
        "print('\\nA')\n",
        "# print('Mean MSE: ', mean_mse)\n",
        "print('Standard deviation of MSE: ', sd_mse)\n",
        "\n",
        "print('\\nB')\n",
        "print('Mean MSE (normalized data): ', mean_mse_norm)\n",
        "print('Standard deviation of MSE (normalized data): ', sd_mse_norm)\n",
        "\n",
        "print('\\nC')\n",
        "print('Mean MSE (normalized data, 100 epochs): ', mean_mse_norm_100)\n",
        "print('Standard deviation of MSE (normalized data, 100 epochs): ', sd_mse_norm_100)\n",
        "\n",
        "print('\\nD')\n",
        "print('Mean MSE (normalized data, 3 hidden layers): ', mean_mse_norm_D)\n",
        "print('Standard deviation of MSE (normalized data, 3 hidden layers): ', sd_mse_norm_D)"
      ],
      "metadata": {
        "colab": {
          "base_uri": "https://localhost:8080/"
        },
        "id": "WCZhmvrXX4WN",
        "outputId": "5600352d-4878-4e92-aae9-39a82b309fb7"
      },
      "execution_count": 41,
      "outputs": [
        {
          "output_type": "stream",
          "name": "stdout",
          "text": [
            "\n",
            "A\n",
            "Standard deviation of MSE:  77.2949976352526\n",
            "\n",
            "B\n",
            "Mean MSE (normalized data):  110.08911473772646\n",
            "Standard deviation of MSE (normalized data):  13.295498066660782\n",
            "\n",
            "C\n",
            "Mean MSE (normalized data, 100 epochs):  59.0608081922971\n",
            "Standard deviation of MSE (normalized data, 100 epochs):  9.056148677997763\n",
            "\n",
            "D\n",
            "Mean MSE (normalized data, 3 hidden layers):  47.3119574100548\n",
            "Standard deviation of MSE (normalized data, 3 hidden layers):  9.794145324004019\n"
          ]
        }
      ]
    },
    {
      "cell_type": "markdown",
      "source": [
        "# Normalizing the data seemed to lower the accuracy of the model, as seen from comparison of Mean and Standard deviation of MSE from parts A and B\n",
        "\n",
        "# Doubling the number of epochs had a significant positive effect on the accuracy of the model. We can see that the Mean MSE was 157.2 with 50 epochs (Part B) and Mean MSE with 100 epochs is 64.4! And the standard deviation of MSE with 100 epochs is almost 6 times smaller than with 50 epochs.\n",
        "\n",
        "# Implementing 3 hidden layers instead of 1 also has increased the accuracy of the model greatly, almost as good as in Part C where we doubled the number of epochs"
      ],
      "metadata": {
        "id": "ai1eUin0Yefo"
      }
    }
  ]
}